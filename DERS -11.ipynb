{
 "cells": [
  {
   "cell_type": "markdown",
   "metadata": {},
   "source": [
    "# DERS 11"
   ]
  },
  {
   "cell_type": "markdown",
   "metadata": {},
   "source": [
    "#  if-else koşullu durumları\n"
   ]
  },
  {
   "cell_type": "markdown",
   "metadata": {},
   "source": [
    "Python programlarımız belirli bloklardan oluşur ve bu bloklar her zaman çalışmak zorunda olmaz.\n",
    "Pythonda bir blok tanımlama işlemi **Girintiler** ile olmaktadır. Bu girintiler de **girintiler(tab)** Pythonda bir blok oluşturmak için kullanılır. \n"
   ]
  },
  {
   "cell_type": "code",
   "execution_count": 2,
   "metadata": {},
   "outputs": [
    {
     "name": "stdout",
     "output_type": "stream",
     "text": [
      "2\n",
      "Merhaba\n"
     ]
    }
   ],
   "source": [
    "a = 2 # Blok 1 'e ait kod\n",
    "\n",
    "if (a == 2):\n",
    "    print(a) # Blok 2'ye ait kod - Girinti\n",
    "print(\"Merhaba\") # Blok 1 ' ait kod"
   ]
  },
  {
   "cell_type": "code",
   "execution_count": 4,
   "metadata": {},
   "outputs": [
    {
     "name": "stdout",
     "output_type": "stream",
     "text": [
      "Merhaba\n"
     ]
    }
   ],
   "source": [
    "a = 25 # Blok 1 'e ait kod\n",
    "\n",
    "if (a == 3):\n",
    "    print(a) # Blok 2'ye ait kod\n",
    "print(\"Merhaba\") # Blok 1 ' ait kod"
   ]
  },
  {
   "cell_type": "markdown",
   "metadata": {},
   "source": [
    "### Koşullu Durumlar"
   ]
  },
  {
   "cell_type": "markdown",
   "metadata": {},
   "source": [
    "\n",
    "Programlamada birçok koşullu durumla karşılaşırız. Belirli koşullar sağlanırsa belirli işlemleri yaparız gibi. Bu durumlar \n",
    "koşullu durumların temelibş oluşturur. \n"
   ]
  },
  {
   "cell_type": "markdown",
   "metadata": {},
   "source": [
    "### if Bloğu\n",
    "\n",
    "if bloğu programımızın içinde herhangi bir yerde belli bir koşulu kontrol edecek isek kullanılan bloklardır.Yazımı şu şekildedir;\n",
    "\n",
    "           if (koşul): \n",
    "               # if bloğu - Koşul sağlanınca (True) çalışır. Bu hizadaki her işlem bu if bloğuna ait.\n",
    "               Koşul sağlandığında yapılacak kod satırları \n",
    "               \n",
    "**if bloğu** *eğer koşul sağlanırsa anlamı taşır*. Eğer if kalıbındaki koşul sağlanırsa (True) if bloğu çalıştırılır, koşul sağlanmazsa (False) if bloğu çalıştırılmaz.            "
   ]
  },
  {
   "cell_type": "code",
   "execution_count": 5,
   "metadata": {},
   "outputs": [
    {
     "name": "stdout",
     "output_type": "stream",
     "text": [
      "Lütfen sayi giriniz:15\n",
      "Girilen sayı: 15\n"
     ]
    }
   ],
   "source": [
    "#Kullanıcıdan alınan sayı 10'dan küçük ise ekrana yazan program\n",
    "sayi = int(input(\"Lütfen sayi giriniz:\"))\n",
    "if (sayi < 10):\n",
    "    print(sayi)\n",
    "    print(\"Girdiğiniz sayı 10'dan küçüktür\")\n",
    "print(\"Girilen sayı:\",sayi) # her koşulda çalışır, çünkü burası if bloğuna dahil değildir."
   ]
  },
  {
   "cell_type": "code",
   "execution_count": 6,
   "metadata": {},
   "outputs": [
    {
     "name": "stdout",
     "output_type": "stream",
     "text": [
      "Yaşınızı giriniz:14\n",
      "Ehliyet alamazsınız.\n"
     ]
    }
   ],
   "source": [
    "# 18 yaş kontrolü\n",
    "yaş = int(input(\"Yaşınızı giriniz:\"))\n",
    "\n",
    "if (yaş < 18):\n",
    "    print(\"Ehliyet alamazsınız.\")"
   ]
  },
  {
   "cell_type": "code",
   "execution_count": 7,
   "metadata": {},
   "outputs": [
    {
     "name": "stdout",
     "output_type": "stream",
     "text": [
      "Sayıyı giriniz:-5\n",
      "Negatif Sayı\n"
     ]
    }
   ],
   "source": [
    "# Kullanıcıdan alınan sayının Negatif mi değil mi olduğunu bulan program\n",
    "sayı = int (input(\"Sayıyı giriniz:\"))\n",
    "\n",
    "if (sayı < 0):\n",
    "    print(\"Negatif Sayı\")\n",
    "    "
   ]
  },
  {
   "cell_type": "markdown",
   "metadata": {},
   "source": [
    "#### else Bloğu\n",
    "\n",
    "else blokları  **if koşulu ** sağlanmadığı zaman (False) çalışan bloklardır. Kullanımı şu şekildedir;\n",
    "            \n",
    "\n",
    "           else:\n",
    "               # else bloğu - Yukarısındaki herhangi bir if bloğu (veya ilerde göreceğimiz elif bloğu) çalışmadığı zaman\n",
    "                Koşul sağlanmadığında yapılacak işlemler\n",
    "               \n",
    "**else** koşulunun yanına herhangi bir koşul yazılmaz çünkü zaten **else** bloğunun çalışması ondan önce gelen diğer koşulların sağlanmamasına bağlıdır."
   ]
  },
  {
   "cell_type": "code",
   "execution_count": 18,
   "metadata": {},
   "outputs": [
    {
     "name": "stdout",
     "output_type": "stream",
     "text": [
      "Bir sayı giriniz:10\n",
      "Girilen sayı pozitif\n"
     ]
    }
   ],
   "source": [
    "#Kullanıcıdan alınan sayı negatif ise (IF KOŞULU) ekrana \"negatif\",  değilse (ELSE) ekrana \"Pozitif\" yazan programı yazalım\n",
    "sayi = int(input(\"Bir sayı giriniz:\"))\n",
    "\n",
    "if (sayi<0):\n",
    "    print(\"Girilen sayı negatif\")\n",
    "else:                              #eğer if koşulu sağlanmıyorsa else kodu çalıştırılır.\n",
    "    print(\"Girilen sayı pozitif\")"
   ]
  },
  {
   "cell_type": "code",
   "execution_count": 21,
   "metadata": {},
   "outputs": [
    {
     "name": "stdout",
     "output_type": "stream",
     "text": [
      "Bir sayı giriniz:10\n",
      "Girilen sayı pozitif\n"
     ]
    }
   ],
   "source": [
    "#YUKARIDAKİ İLE TAMAMEN AYNI \n",
    "sayi = int(input(\"Bir sayı giriniz:\"))\n",
    "\n",
    "if (sayi<0):\n",
    "    print(\"Girilen sayı negatif\")\n",
    "if (sayi>0): \n",
    "    print(\"Girilen sayı pozitif\")"
   ]
  },
  {
   "cell_type": "code",
   "execution_count": 8,
   "metadata": {},
   "outputs": [
    {
     "name": "stdout",
     "output_type": "stream",
     "text": [
      "Yaşınızı giriniz:25\n",
      "Ehliyet alabilirsiniz.\n"
     ]
    }
   ],
   "source": [
    "# 18 yaş kontrolü yapan programı yazınız\n",
    "yaş = int(input(\"Yaşınızı giriniz:\"))\n",
    "\n",
    "if (yaş < 18):\n",
    "    # if bloğu -  Girinti ile sağlanıyor.\n",
    "    print(\"Ehliyet alamazsınız.\")\n",
    "else:\n",
    "    # else bloğu -  if koşulu sağlanmazsa çalışacak.\n",
    "    print(\"Ehliyet alabilirsiniz.\")"
   ]
  },
  {
   "cell_type": "code",
   "execution_count": 9,
   "metadata": {},
   "outputs": [
    {
     "ename": "SyntaxError",
     "evalue": "invalid syntax (<ipython-input-9-dd16a611111e>, line 2)",
     "output_type": "error",
     "traceback": [
      "\u001b[1;36m  File \u001b[1;32m\"<ipython-input-9-dd16a611111e>\"\u001b[1;36m, line \u001b[1;32m2\u001b[0m\n\u001b[1;33m    else:\u001b[0m\n\u001b[1;37m       ^\u001b[0m\n\u001b[1;31mSyntaxError\u001b[0m\u001b[1;31m:\u001b[0m invalid syntax\n"
     ]
    }
   ],
   "source": [
    "# else tek başına yazılamaz mutlaka bir if koşuluna bağlıdır. \n",
    "else:\n",
    "    print(\"Girilen ilk sayı büyüktür\")"
   ]
  },
  {
   "cell_type": "markdown",
   "metadata": {},
   "source": [
    "Buradaki kod hata verdi çünkü bir **else** bloğu kendinden önce herhangi bir koşul bloğu yok ise çalışamaz ve Pythonda hataya yol açar.\n"
   ]
  },
  {
   "cell_type": "markdown",
   "metadata": {
    "collapsed": true
   },
   "source": [
    "### ÖDEV 11\n",
    "\n",
    "**Aşağıdaki kod satırlarının çıktısı ne olur ?**\n",
    "\n",
    " - not (28 >5)\n",
    " - not (5==5)\n",
    " - (\"Bursa\" != \"Balıkesir\") and (8<18)\n",
    " - ((3+5)==8)  and ((20-9)==10)\n",
    " - (\"Hatice\"== \"Hayriye\") and (2<3)\n",
    " - (\"Bursa\" != \"Balıkesir\") or (8<18)\n",
    " - ((3+5)>=8)  or ((20-9)!=10)\n",
    " - 63==60 or \"Hatice\" == \"Candan\"\n"
   ]
  },
  {
   "cell_type": "markdown",
   "metadata": {},
   "source": [
    "**2) Kullanıcıdan bir sayı alınız ve alınan sayı 100'den büyük ise sayıyı ekrana yazdıran programı yazınız.** "
   ]
  },
  {
   "cell_type": "markdown",
   "metadata": {},
   "source": [
    "**3) Kullanıcıdan bir sayı alınız ve alınan sayı 200'dan küçük ise sayıyı ekrana yazdıran programı yazınız.** "
   ]
  },
  {
   "cell_type": "markdown",
   "metadata": {},
   "source": [
    "**4) Kullanıcıdan bir sayı alınız ve eğer sayı 100'den büyük *VE* 200'den küçük ise sayıyı ekrana yazdıran programı yazınız.** "
   ]
  },
  {
   "cell_type": "code",
   "execution_count": 1,
   "metadata": {},
   "outputs": [
    {
     "data": {
      "text/plain": [
       "False"
      ]
     },
     "execution_count": 1,
     "metadata": {},
     "output_type": "execute_result"
    }
   ],
   "source": [
    "not (28 >5)"
   ]
  },
  {
   "cell_type": "code",
   "execution_count": 2,
   "metadata": {},
   "outputs": [
    {
     "data": {
      "text/plain": [
       "False"
      ]
     },
     "execution_count": 2,
     "metadata": {},
     "output_type": "execute_result"
    }
   ],
   "source": [
    "not (5==5)"
   ]
  },
  {
   "cell_type": "code",
   "execution_count": 3,
   "metadata": {},
   "outputs": [
    {
     "data": {
      "text/plain": [
       "True"
      ]
     },
     "execution_count": 3,
     "metadata": {},
     "output_type": "execute_result"
    }
   ],
   "source": [
    "(\"Bursa\" != \"Balıkesir\") and (8<18)"
   ]
  },
  {
   "cell_type": "code",
   "execution_count": 4,
   "metadata": {},
   "outputs": [
    {
     "data": {
      "text/plain": [
       "False"
      ]
     },
     "execution_count": 4,
     "metadata": {},
     "output_type": "execute_result"
    }
   ],
   "source": [
    "((3+5)==8)  and ((20-9)==10)"
   ]
  },
  {
   "cell_type": "code",
   "execution_count": 5,
   "metadata": {},
   "outputs": [
    {
     "data": {
      "text/plain": [
       "False"
      ]
     },
     "execution_count": 5,
     "metadata": {},
     "output_type": "execute_result"
    }
   ],
   "source": [
    "(\"Hatice\"== \"Hayriye\") and (2<3)"
   ]
  },
  {
   "cell_type": "code",
   "execution_count": 6,
   "metadata": {},
   "outputs": [
    {
     "data": {
      "text/plain": [
       "True"
      ]
     },
     "execution_count": 6,
     "metadata": {},
     "output_type": "execute_result"
    }
   ],
   "source": [
    "(\"Bursa\" != \"Balıkesir\") or (8<18)"
   ]
  },
  {
   "cell_type": "code",
   "execution_count": 7,
   "metadata": {},
   "outputs": [
    {
     "data": {
      "text/plain": [
       "True"
      ]
     },
     "execution_count": 7,
     "metadata": {},
     "output_type": "execute_result"
    }
   ],
   "source": [
    "((3+5)>=8)  or ((20-9)!=10)"
   ]
  },
  {
   "cell_type": "code",
   "execution_count": 8,
   "metadata": {},
   "outputs": [
    {
     "data": {
      "text/plain": [
       "False"
      ]
     },
     "execution_count": 8,
     "metadata": {},
     "output_type": "execute_result"
    }
   ],
   "source": [
    "63==60 or \"Hatice\" == \"Candan\""
   ]
  },
  {
   "cell_type": "code",
   "execution_count": 19,
   "metadata": {},
   "outputs": [
    {
     "name": "stdout",
     "output_type": "stream",
     "text": [
      "Bir sayı giriniz:99\n"
     ]
    }
   ],
   "source": [
    "#2\n",
    "sayi = int(input(\"Bir sayı giriniz:\"))\n",
    "\n",
    "if (sayi>100):\n",
    "    print(\"sayi:\",sayi)"
   ]
  },
  {
   "cell_type": "code",
   "execution_count": 21,
   "metadata": {},
   "outputs": [
    {
     "name": "stdout",
     "output_type": "stream",
     "text": [
      "Bir sayı giriniz:250\n"
     ]
    }
   ],
   "source": [
    "#3\n",
    "sayi = int(input(\"Bir sayı giriniz:\"))\n",
    "\n",
    "if (sayi<200):\n",
    "    print(\"sayi:\",sayi)"
   ]
  },
  {
   "cell_type": "code",
   "execution_count": 23,
   "metadata": {},
   "outputs": [
    {
     "name": "stdout",
     "output_type": "stream",
     "text": [
      "Bir sayı giriniz:40\n"
     ]
    }
   ],
   "source": [
    "#4\n",
    "sayi = int(input(\"Bir sayı giriniz:\"))\n",
    "\n",
    "if (sayi>100) and (sayi<200):\n",
    "    print(\"sayi:\",sayi)"
   ]
  },
  {
   "cell_type": "code",
   "execution_count": 25,
   "metadata": {},
   "outputs": [
    {
     "name": "stdout",
     "output_type": "stream",
     "text": [
      "Bir sayı giriniz:105\n",
      "sayi: 105\n"
     ]
    }
   ],
   "source": [
    "#4 veya şu şekilde de yazılabilir \n",
    "sayi = int(input(\"Bir sayı giriniz:\"))\n",
    "\n",
    "if (100<sayi<200):\n",
    "    print(\"sayi:\",sayi)"
   ]
  },
  {
   "cell_type": "code",
   "execution_count": null,
   "metadata": {},
   "outputs": [],
   "source": []
  }
 ],
 "metadata": {
  "kernelspec": {
   "display_name": "Python 3",
   "language": "python",
   "name": "python3"
  },
  "language_info": {
   "codemirror_mode": {
    "name": "ipython",
    "version": 3
   },
   "file_extension": ".py",
   "mimetype": "text/x-python",
   "name": "python",
   "nbconvert_exporter": "python",
   "pygments_lexer": "ipython3",
   "version": "3.7.3"
  }
 },
 "nbformat": 4,
 "nbformat_minor": 2
}
