{
 "cells": [
  {
   "cell_type": "markdown",
   "metadata": {},
   "source": [
    "## ÖDEV 15 CEVAPLARI \n",
    "\n",
    "**1) listesindeki her bir meyveyi ekrana büyük hafle yazdıran program kodunuz yazınız.**\n",
    "\n",
    "meyve = [\"kiraz\",\"kayısı\",\"şeftali\",\"muz\",\"portakal\"]\n",
    "\n",
    "\n",
    "**2) liste=[10,100,50,60,15,5]**\n",
    "\n",
    "listesindeki her bir elemanı 5'e bölüp yeni bir listeye yazan programı yazınız. \n",
    "\n",
    "**3) demet =(2,5,9,56,3,[20,3,5],80)**\n",
    "\n",
    "Yukarıdaki demette yer alan elemanların sayısını for döngüsü ile bulan programı yazınız. "
   ]
  },
  {
   "cell_type": "code",
   "execution_count": 19,
   "metadata": {},
   "outputs": [
    {
     "name": "stdout",
     "output_type": "stream",
     "text": [
      "KIRAZ\n",
      "KAYISI\n",
      "ŞEFTALI\n",
      "MUZ\n",
      "PORTAKAL\n"
     ]
    }
   ],
   "source": [
    "#1#\n",
    "meyve = [\"kiraz\",\"kayısı\",\"şeftali\",\"muz\",\"portakal\"]\n",
    "\n",
    "for i in meyve:\n",
    "    print(i.upper())"
   ]
  },
  {
   "cell_type": "code",
   "execution_count": 1,
   "metadata": {},
   "outputs": [
    {
     "name": "stdout",
     "output_type": "stream",
     "text": [
      "[2.0, 20.0, 10.0, 12.0, 3.0, 1.0]\n",
      "6\n"
     ]
    }
   ],
   "source": [
    "#2#\n",
    "liste=[10,100,50,60,15,5]\n",
    "i=0\n",
    "for a in liste:\n",
    "    liste[i]=(a/5)\n",
    "    i+=1\n",
    "print(liste)  \n",
    "print(i)"
   ]
  },
  {
   "cell_type": "code",
   "execution_count": 3,
   "metadata": {},
   "outputs": [
    {
     "data": {
      "text/plain": [
       "7"
      ]
     },
     "execution_count": 3,
     "metadata": {},
     "output_type": "execute_result"
    }
   ],
   "source": [
    "#3#\n",
    "demet =(2,5,9,56,3,[20,3,5],80)\n",
    "sayac = 0\n",
    "for i in demet:\n",
    "    sayac+=1\n",
    "sayac    \n",
    "\n",
    "len(demet)"
   ]
  },
  {
   "cell_type": "markdown",
   "metadata": {},
   "source": [
    "## DERS 16"
   ]
  },
  {
   "cell_type": "markdown",
   "metadata": {},
   "source": [
    "#### While döngüleri"
   ]
  },
  {
   "cell_type": "markdown",
   "metadata": {},
   "source": [
    "while döngüleri belli bir koşul sağlandığı sürece blokta yazılan satırları gerçekleştirir. \n",
    "*while* döngülerinin sona ermesi için koşul durumunun bir süre sonra **False** olması gereklidir yoksa sonsuz döngü olur. \n",
    "\n",
    "                                while (koşul):\n",
    "                                    İşlem1\n",
    "                                    İşlem2\n",
    "                                    İşlem3\n",
    "                                      //\n",
    "                                      //"
   ]
  },
  {
   "cell_type": "code",
   "execution_count": 2,
   "metadata": {},
   "outputs": [
    {
     "name": "stdout",
     "output_type": "stream",
     "text": [
      "1\n",
      "2\n",
      "3\n",
      "4\n",
      "5\n",
      "6\n",
      "7\n",
      "8\n",
      "9\n"
     ]
    }
   ],
   "source": [
    "#1'den 10'a kadar sayıları ekrana yazdırmak istiyorum.\n",
    "\n",
    "i=1\n",
    "while (i<10):\n",
    "    print(i)\n",
    "    i+=1        #koşulu false yapabilmek için gerekli"
   ]
  },
  {
   "cell_type": "code",
   "execution_count": 5,
   "metadata": {},
   "outputs": [
    {
     "name": "stdout",
     "output_type": "stream",
     "text": [
      "PYTHON İLE KODLAMA ÖĞRENİYORUM\n",
      "PYTHON İLE KODLAMA ÖĞRENİYORUM\n",
      "PYTHON İLE KODLAMA ÖĞRENİYORUM\n",
      "PYTHON İLE KODLAMA ÖĞRENİYORUM\n",
      "PYTHON İLE KODLAMA ÖĞRENİYORUM\n",
      "PYTHON İLE KODLAMA ÖĞRENİYORUM\n",
      "PYTHON İLE KODLAMA ÖĞRENİYORUM\n",
      "PYTHON İLE KODLAMA ÖĞRENİYORUM\n",
      "PYTHON İLE KODLAMA ÖĞRENİYORUM\n",
      "PYTHON İLE KODLAMA ÖĞRENİYORUM\n"
     ]
    }
   ],
   "source": [
    "# EKRANA 10 KEZ \"PYTHON İLE KODLAMA ÖĞRENİYORUM\" YAZALIM.\n",
    "\n",
    "i=0\n",
    "while(i<10):\n",
    "    print(\"PYTHON İLE KODLAMA ÖĞRENİYORUM\")\n",
    "    i+=1"
   ]
  },
  {
   "cell_type": "code",
   "execution_count": 6,
   "metadata": {},
   "outputs": [
    {
     "name": "stdout",
     "output_type": "stream",
     "text": [
      "PYTHON İLE KODLAMA ÖĞRENİYORUM\n",
      "PYTHON İLE KODLAMA ÖĞRENİYORUM\n",
      "PYTHON İLE KODLAMA ÖĞRENİYORUM\n",
      "PYTHON İLE KODLAMA ÖĞRENİYORUM\n",
      "PYTHON İLE KODLAMA ÖĞRENİYORUM\n",
      "PYTHON İLE KODLAMA ÖĞRENİYORUM\n",
      "PYTHON İLE KODLAMA ÖĞRENİYORUM\n",
      "PYTHON İLE KODLAMA ÖĞRENİYORUM\n",
      "PYTHON İLE KODLAMA ÖĞRENİYORUM\n",
      "PYTHON İLE KODLAMA ÖĞRENİYORUM\n"
     ]
    }
   ],
   "source": [
    "#aynı kodu for ile nasıl yazardık ?\n",
    "\n",
    "for i in range(0,10):\n",
    "    print(\"PYTHON İLE KODLAMA ÖĞRENİYORUM\")"
   ]
  },
  {
   "cell_type": "code",
   "execution_count": 8,
   "metadata": {},
   "outputs": [
    {
     "name": "stdout",
     "output_type": "stream",
     "text": [
      "Indeks: 0 Eleman: 1\n",
      "Indeks: 1 Eleman: 2\n",
      "Indeks: 2 Eleman: 3\n",
      "Indeks: 3 Eleman: 4\n",
      "Indeks: 4 Eleman: 5\n"
     ]
    }
   ],
   "source": [
    "# Liste üzerinde while döngüsü\n",
    "liste = [1,2,3,4,5]\n",
    "\n",
    "i = 0 \n",
    "\n",
    "while (i < len(liste)):\n",
    "    print(\"Indeks:\",i,\"Eleman:\",liste[i])\n",
    "    i +=1"
   ]
  },
  {
   "cell_type": "code",
   "execution_count": 25,
   "metadata": {},
   "outputs": [
    {
     "name": "stdout",
     "output_type": "stream",
     "text": [
      "Indeks: 0 Eleman: 1\n",
      "Indeks: 1 Eleman: 2\n",
      "Indeks: 2 Eleman: 3\n",
      "Indeks: 3 Eleman: 4\n",
      "Indeks: 4 Eleman: 5\n"
     ]
    }
   ],
   "source": [
    "#aynı işlemi for ile nasıl yapardık\n",
    "liste = [1,2,3,4,5]\n",
    "a = 0\n",
    "for eleman in liste:\n",
    "    print(\"Indeks:\",a,\"Eleman:\",eleman)\n",
    "    a+=1"
   ]
  },
  {
   "cell_type": "markdown",
   "metadata": {},
   "source": [
    "#### SONSUZ DÖNGÜ "
   ]
  },
  {
   "cell_type": "markdown",
   "metadata": {},
   "source": [
    "while döngü koşulu bir süre sonra **False** olmazsa döngü sonsuza kadar devam edebilir, dolayısıyla while döngüsü kullanılırken koşullar kontrol edilip döngünün sonlandığından emin olmak önemlidir. "
   ]
  },
  {
   "cell_type": "code",
   "execution_count": null,
   "metadata": {},
   "outputs": [],
   "source": [
    "i = 0 \n",
    "while (i < 5):\n",
    "    print(i)\n",
    "    # i değişkenini artırma işlemi yapmadığımız için i değişkeninin değeri sürekli 0 kalıyor \n",
    "    # ve döngü koşulu sürekli True kalıyor."
   ]
  },
  {
   "cell_type": "markdown",
   "metadata": {},
   "source": [
    "### range() Fonksiyonu\n",
    "\n",
    "range(başlangıç,bitiş,artım değeri) \n",
    "\n",
    "başlangıç, bitiş ve opsiyonel olarak artırma değeri alarak listelere benzeyen bir sayı dizisi oluşturur."
   ]
  },
  {
   "cell_type": "code",
   "execution_count": 8,
   "metadata": {},
   "outputs": [
    {
     "name": "stdout",
     "output_type": "stream",
     "text": [
      "0 1 2 3 4 5 6 7 8 9\n"
     ]
    }
   ],
   "source": [
    "range(0,10) # 0'dan 10' a kadar (10 dahil değil) sayı dizisi oluşturur. \n",
    "print(*range(0,10)) #yazdırmak için başına \"*\" koymak zorundayız"
   ]
  },
  {
   "cell_type": "code",
   "execution_count": 33,
   "metadata": {},
   "outputs": [
    {
     "name": "stdout",
     "output_type": "stream",
     "text": [
      "range(0, 10)\n",
      "0 1 2 3 4 5 6 7 8 9\n",
      "<class 'range'>\n"
     ]
    }
   ],
   "source": [
    "a=range(0,10)\n",
    "print(a)\n",
    "print(*a)\n",
    "print(type(a))"
   ]
  },
  {
   "cell_type": "markdown",
   "metadata": {},
   "source": [
    "**Eğer listeye dönüştürmek istersem de list() fonksiyonu kullanmam gerekir.**"
   ]
  },
  {
   "cell_type": "code",
   "execution_count": 35,
   "metadata": {},
   "outputs": [
    {
     "name": "stdout",
     "output_type": "stream",
     "text": [
      "[0, 1, 2, 3, 4, 5, 6, 7, 8, 9]\n"
     ]
    },
    {
     "data": {
      "text/plain": [
       "list"
      ]
     },
     "execution_count": 35,
     "metadata": {},
     "output_type": "execute_result"
    }
   ],
   "source": [
    "a = list(range(0,10))\n",
    "print(a)\n",
    "type(a)"
   ]
  },
  {
   "cell_type": "code",
   "execution_count": 37,
   "metadata": {},
   "outputs": [
    {
     "data": {
      "text/plain": [
       "[5, 6, 7, 8, 9]"
      ]
     },
     "execution_count": 37,
     "metadata": {},
     "output_type": "execute_result"
    }
   ],
   "source": [
    "b = list(range(5,10))  #5 ile başlar 10'a kadar(10 dahil değil)\n",
    "b"
   ]
  },
  {
   "cell_type": "code",
   "execution_count": 39,
   "metadata": {},
   "outputs": [
    {
     "name": "stdout",
     "output_type": "stream",
     "text": [
      "0 1 2 3 4 5 6 7 8 9 10 11\n"
     ]
    }
   ],
   "source": [
    "print(*range(12))  #tek bir sayı yazarsam ise 0'dan başlar yazılan sayıya kadar (yazılan sayı dahil değil)"
   ]
  },
  {
   "cell_type": "code",
   "execution_count": 41,
   "metadata": {},
   "outputs": [
    {
     "data": {
      "text/plain": [
       "[5, 7, 9, 11, 13, 15, 17, 19]"
      ]
     },
     "execution_count": 41,
     "metadata": {},
     "output_type": "execute_result"
    }
   ],
   "source": [
    "c = list(range(5,20,2))  # 5 ile 20 arasında 2'şer aralıklarla sayı üretir\n",
    "c"
   ]
  },
  {
   "cell_type": "code",
   "execution_count": 42,
   "metadata": {},
   "outputs": [
    {
     "name": "stdout",
     "output_type": "stream",
     "text": [
      "5 10 15 20 25 30 35 40 45 50 55 60 65 70 75 80 85 90 95\n"
     ]
    }
   ],
   "source": [
    "print(*range(5,100,5)) # 5'ten 100'e kadar olan 5'er aralıklarla sayılar"
   ]
  },
  {
   "cell_type": "markdown",
   "metadata": {},
   "source": [
    "**Diyelim ki geriye doğru sayılar üretmek istiyoruz, yani 10,9,8,7,6,5.... gibi**"
   ]
  },
  {
   "cell_type": "code",
   "execution_count": 46,
   "metadata": {},
   "outputs": [
    {
     "name": "stdout",
     "output_type": "stream",
     "text": [
      "10 9 8 7 6 5 4 3 2 1\n"
     ]
    }
   ],
   "source": [
    "print(*range(10,0,-1)) #0 dahil değildir. geriye doğru sayı üretmek için "
   ]
  },
  {
   "cell_type": "code",
   "execution_count": 47,
   "metadata": {},
   "outputs": [
    {
     "name": "stdout",
     "output_type": "stream",
     "text": [
      "* \n",
      "* * \n",
      "* * * \n",
      "* * * * \n",
      "* * * * * \n",
      "* * * * * * \n",
      "* * * * * * * \n",
      "* * * * * * * * \n",
      "* * * * * * * * * \n"
     ]
    }
   ],
   "source": [
    "for sayı in range(1,10):\n",
    "    print(\"* \" * sayı)"
   ]
  },
  {
   "cell_type": "markdown",
   "metadata": {},
   "source": [
    "#  break ve continue ifadeleri"
   ]
  },
  {
   "cell_type": "markdown",
   "metadata": {},
   "source": [
    "### break ifadesi"
   ]
  },
  {
   "cell_type": "markdown",
   "metadata": {},
   "source": [
    "break ifadesi döngülerde en çok kullanılan ifadedir. Anlamı şu şekildedir;\n",
    "\n",
    "            Döngü herhangi bir yerde ve herhangi bir zamanda break ifadesiyle karşılaştığı zaman\n",
    "            çalışmasını bir anda durdurur. Böylelikle döngü hiçbir koşula bağlı kalmadan sonlanmış olur.\n",
    "            \n",
    "            \n",
    "break ifadesi **sadece ve sadece** içindeki bulunduğu döngüyü sonlandırır. Eğer iç içe döngüler bulunuyorsa ve en içteki döngüde break kullanılmışsa sadece içteki döngü sona erer. "
   ]
  },
  {
   "cell_type": "code",
   "execution_count": 48,
   "metadata": {},
   "outputs": [
    {
     "name": "stdout",
     "output_type": "stream",
     "text": [
      "0\n",
      "1\n",
      "2\n",
      "3\n",
      "4\n",
      "5\n",
      "6\n",
      "7\n",
      "8\n",
      "9\n"
     ]
    }
   ],
   "source": [
    "i = 0 # Bu döngüyü biliyoruz. 0-10 arası sayıları ekrana yazıyor\n",
    "\n",
    "while (i < 10):\n",
    "    print(i)\n",
    "    i +=1"
   ]
  },
  {
   "cell_type": "code",
   "execution_count": 49,
   "metadata": {},
   "outputs": [
    {
     "name": "stdout",
     "output_type": "stream",
     "text": [
      "0\n",
      "1\n",
      "2\n",
      "3\n",
      "4\n",
      "5\n"
     ]
    }
   ],
   "source": [
    "# Şimdi ise sayıları ekrana yazdırırken sayı 5 olduğunda artık yazdırmayı keselim. Bunun için break kullanırız.\n",
    "i = 0 \n",
    "\n",
    "while (i < 10):\n",
    "    print(i)\n",
    "    if (i == 5):\n",
    "        break # i'nin değeri 5 olunca bu koşul sağlanıyor ve  break ifadesiyle karşılaşıldığı için döngü anında sona eriyor.\n",
    "    i +=1"
   ]
  },
  {
   "cell_type": "code",
   "execution_count": 50,
   "metadata": {},
   "outputs": [
    {
     "name": "stdout",
     "output_type": "stream",
     "text": [
      "1\n",
      "2\n",
      "3\n",
      "4\n"
     ]
    }
   ],
   "source": [
    "# for döngüsüyle break kullanalım.\n",
    "liste = [1,2,3,4,5,6,7,8,9]\n",
    "for i in liste:\n",
    "    if (i == 5):\n",
    "        break\n",
    "    print(i)"
   ]
  },
  {
   "cell_type": "markdown",
   "metadata": {},
   "source": [
    "### continue ifadesi\n",
    "*continue* ifadesi *break*'e göre biraz daha az kullanılan bir ifadedir. Anlamı şu şekildedir;\n",
    "            \n",
    "        Döngü herhangi bir yerde ve herhangi bir zamanda continue ifadesiyle karşılaştığı zaman geri kalan işlemlerini\n",
    "        yapmadan direk bloğunun başına döner."
   ]
  },
  {
   "cell_type": "code",
   "execution_count": 53,
   "metadata": {},
   "outputs": [
    {
     "name": "stdout",
     "output_type": "stream",
     "text": [
      "eleman: 1\n",
      "eleman: 2\n",
      "eleman: 3\n",
      "eleman: 4\n",
      "eleman: 5\n",
      "eleman: 6\n",
      "eleman: 7\n",
      "eleman: 8\n",
      "eleman: 9\n",
      "eleman: 10\n"
     ]
    }
   ],
   "source": [
    "#Liste elemanlarını tek tek ekrana yazdıran program\n",
    "liste = [1,2,3,4,5,6,7,8,9,10]\n",
    "\n",
    "for eleman in liste:\n",
    "    print(\"eleman:\",eleman)"
   ]
  },
  {
   "cell_type": "code",
   "execution_count": 55,
   "metadata": {},
   "outputs": [
    {
     "name": "stdout",
     "output_type": "stream",
     "text": [
      "eleman: 1\n",
      "eleman: 2\n",
      "eleman: 4\n",
      "eleman: 6\n",
      "eleman: 7\n",
      "eleman: 8\n",
      "eleman: 9\n"
     ]
    }
   ],
   "source": [
    "# Şimdi ise elemanlardan birisi 3 veya 5 ise onları ekrana yazdırmayan ama diğerlerini ekrana yazdıran programı \n",
    "#continue kullanarak yazalım\n",
    "\n",
    "liste = [1,2,3,4,5,6,7,8,9] \n",
    "\n",
    "for eleman in liste:\n",
    "    if (eleman == 3 or eleman == 5):\n",
    "        continue\n",
    "    print(\"eleman:\",eleman)"
   ]
  },
  {
   "cell_type": "code",
   "execution_count": null,
   "metadata": {},
   "outputs": [],
   "source": []
  }
 ],
 "metadata": {
  "kernelspec": {
   "display_name": "Python 3",
   "language": "python",
   "name": "python3"
  },
  "language_info": {
   "codemirror_mode": {
    "name": "ipython",
    "version": 3
   },
   "file_extension": ".py",
   "mimetype": "text/x-python",
   "name": "python",
   "nbconvert_exporter": "python",
   "pygments_lexer": "ipython3",
   "version": "3.7.3"
  }
 },
 "nbformat": 4,
 "nbformat_minor": 2
}
