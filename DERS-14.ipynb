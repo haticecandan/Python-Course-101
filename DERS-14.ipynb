{
 "cells": [
  {
   "cell_type": "markdown",
   "metadata": {},
   "source": [
    "# DERS 14"
   ]
  },
  {
   "cell_type": "markdown",
   "metadata": {},
   "source": [
    "### ÖDEV 13 CEVABI:"
   ]
  },
  {
   "cell_type": "code",
   "execution_count": 8,
   "metadata": {},
   "outputs": [
    {
     "name": "stdout",
     "output_type": "stream",
     "text": [
      "Birinci Sayıyı Giriniz:40\n",
      "İkinci Sayıyı Giriniz:50\n",
      "İşlem Numarasını Seçiniz:8\n",
      "Geçersiz İşlem numarası girdiniz ! Lütfen geçerli bir işlem giriniz\n"
     ]
    }
   ],
   "source": [
    "#1\n",
    "\n",
    "sayi1 = int(input(\"Birinci Sayıyı Giriniz:\")) \n",
    "sayi2 = int(input(\"İkinci Sayıyı Giriniz:\")) \n",
    "\n",
    "işlem =  input(\"İşlem Numarasını Seçiniz:\") \n",
    "\n",
    "if (işlem == \"1\"): \n",
    "\n",
    "    print(\"Yapılan işlem sonrası cevap {} dır.\".format(sayi1+sayi2))\n",
    "elif (işlem == \"2\"):\n",
    "\n",
    "    print(\"Yapılan işlem sonrası cevap {} dır.\".format(sayi1 - sayi2))\n",
    "\n",
    "elif (işlem == \"3\"):\n",
    "\n",
    "    print(\"Yapılan işlem sonrası cevap {} dır.\".format( sayi1 * sayi2))\n",
    "\n",
    "elif (işlem == \"4\"):\n",
    "\n",
    "    print(\"Yapılan işlem sonrası cevap {} dır.\".format( sayi1 / sayi2))\n",
    "else:\n",
    "\n",
    "    print(\"Geçersiz İşlem numarası girdiniz ! Lütfen geçerli bir işlem giriniz\")\n"
   ]
  },
  {
   "cell_type": "code",
   "execution_count": 10,
   "metadata": {},
   "outputs": [
    {
     "name": "stdout",
     "output_type": "stream",
     "text": [
      "lütfen bir sayı giriniz:122\n",
      "Girdiğiniz sayı mutlu sayı\n"
     ]
    }
   ],
   "source": [
    "#2\n",
    "sayi = int(input(\"lütfen bir sayı giriniz:\"))\n",
    "\n",
    "birler = int(sayi%10)\n",
    "onlar = int((sayi/10)%10)\n",
    "\n",
    "if birler == onlar:\n",
    "    print(\"Girdiğiniz sayı mutlu sayı\")\n",
    "else:\n",
    "    print(\"Girdiğiniz sayı üzgün sayı\")"
   ]
  },
  {
   "cell_type": "code",
   "execution_count": 2,
   "metadata": {},
   "outputs": [
    {
     "name": "stdout",
     "output_type": "stream",
     "text": [
      "İlk sayıyı giriniz:50\n",
      "İkinci sayıyı giriniz:20\n",
      "Üçüncü sayıyı giriniz:68\n",
      "En büyük sayı: 68\n"
     ]
    }
   ],
   "source": [
    "#3\n",
    "sayi1 =  int(input(\"İlk sayıyı giriniz:\"))\n",
    "\n",
    "sayi2 = int(input(\"İkinci sayıyı giriniz:\"))\n",
    "\n",
    "sayi3 = int(input(\"Üçüncü sayıyı giriniz:\"))\n",
    "\n",
    "if (sayi1 >= sayi2 and sayi1 >= sayi3):\n",
    "    print(\"En büyük sayı:\",sayi1)\n",
    "elif (sayi2 >= sayi1 and sayi2 >= sayi3):\n",
    "    print(\"En büyük sayı:\",sayi2)\n",
    "elif (sayi3 >= sayi1 and sayi3 >= sayi2):\n",
    "    print(\"En büyük sayı:\",sayi3)"
   ]
  },
  {
   "cell_type": "code",
   "execution_count": null,
   "metadata": {},
   "outputs": [],
   "source": []
  },
  {
   "cell_type": "markdown",
   "metadata": {},
   "source": [
    "## UYGULAMA :\n",
    "**Kullanıcıdan alınan üçgen kenarları bilgisine göre üçgenin tipini bulan programı yazınız.**\n",
    "\n",
    "Kullanıcıdan 3 adet kenar almamız gerekmektedir. \n",
    "\n",
    "-  Üçgenin ikizkenar mı , eşkenar mı yoksa sıradan bir üçgen mi olduğunu bulan,\n",
    "   - Eğer verilen kenarlar bir üçgen belirtmiyorsa da ekrana \"Girdiğiniz kenarlar üçgen belirtmiyor\" şeklinde bir yazı yazan\n",
    "\n",
    "Programı yazınız. \n",
    "\n",
    "\n",
    "**Üçgen Belirtme Koşulu**\n",
    "\n",
    "abs(a+b) > c > abs(a-b) , abs(a+c) > b > abs(a-c), abs(b+c) > a >abs(b-c)"
   ]
  },
  {
   "cell_type": "code",
   "execution_count": 17,
   "metadata": {},
   "outputs": [
    {
     "name": "stdout",
     "output_type": "stream",
     "text": [
      "Kenar 1'i giriniz:8\n",
      "Kenar 2'yi giriniz:6\n",
      "Kenar 3'ü giriniz:8\n",
      "İkizkenar Üçgen\n"
     ]
    }
   ],
   "source": [
    "a = int(input(\"Kenar 1'i giriniz:\"))\n",
    "b = int(input(\"Kenar 2'yi giriniz:\"))\n",
    "c = int(input(\"Kenar 3'ü giriniz:\"))\n",
    "\n",
    "if (abs(b-c) < a < abs(a+b)) and (abs(a-c) < b < abs(a+c)) and (abs(a-b) < c < abs(a+b)):\n",
    "    if (a==b) and (a==c):\n",
    "        print(\"Eşkenar Üçgen\")\n",
    "    elif ((a==b) and (a!=c)) or ((a==c) and (a!=b)) or ((b==c) and (b!=a)):\n",
    "        print(\"İkizkenar Üçgen\")\n",
    "    else:\n",
    "        print(\"Sıradan Üçgen\")\n",
    "\n",
    "else:\n",
    "    print(\"Girdiğiniz kenarlar üçgen belirtmiyor.\")\n",
    "        "
   ]
  },
  {
   "cell_type": "code",
   "execution_count": null,
   "metadata": {},
   "outputs": [],
   "source": []
  },
  {
   "cell_type": "code",
   "execution_count": null,
   "metadata": {},
   "outputs": [],
   "source": []
  },
  {
   "cell_type": "code",
   "execution_count": null,
   "metadata": {},
   "outputs": [],
   "source": []
  },
  {
   "cell_type": "code",
   "execution_count": null,
   "metadata": {},
   "outputs": [],
   "source": []
  },
  {
   "cell_type": "code",
   "execution_count": null,
   "metadata": {},
   "outputs": [],
   "source": []
  },
  {
   "cell_type": "markdown",
   "metadata": {},
   "source": [
    "## UYGULAMA:\n",
    "Kullanıcının yaptığı seçime göre istenilen geometrik şeklin alanını bulan programı yazınız. \n",
    "\n",
    "Geometrik şekiller: üçgen , kare, dikdörtgen ve dairedir. \n",
    "\n",
    "**ÖRNEK ÇIKTI**\n",
    "\n",
    "**Lütfen geometrik şekil seçiminizi giriniz(üçgen, kare, dikdörtgen, daire) :** daire\n",
    "\n",
    "**Dairenin yarıçapını giriniz :** 5\n",
    "\n",
    "**Yarıçapı 5 olan dairenin alanı 75'dir.** \n"
   ]
  },
  {
   "cell_type": "code",
   "execution_count": 22,
   "metadata": {},
   "outputs": [
    {
     "name": "stdout",
     "output_type": "stream",
     "text": [
      "Lütfen geometrik şekil seçiminizi giriniz(üçgen, kare, dikdörtgen, daire):yamuk\n",
      "Yanlış bir seçim yaptınız lütfen tekrar seçim yapınız!\n"
     ]
    }
   ],
   "source": [
    "secim = input(\"Lütfen geometrik şekil seçiminizi giriniz(üçgen, kare, dikdörtgen, daire):\")\n",
    "\n",
    "if secim == \"üçgen\" :\n",
    "    yukseklik = int(input(\"Üçgenin yüksekliğini giriniz:\"))\n",
    "    taban = int(input(\"Üçgenin taban uzunluğunu giriniz:\"))\n",
    "    alan = (taban * yukseklik)/2\n",
    "    print(\"Yüksekliği {} olan taban uzunluğu {} olan üçgenin alanı {}'dur.\".format(yukseklik,taban,alan))\n",
    "\n",
    "elif secim ==\"kare\":\n",
    "    kenar = int(input(\"Karenin bir kenarını giriniz:\"))\n",
    "    alan = kenar**2\n",
    "    print(\"Bir kenarı\",kenar, \"olan karenin alanı = \", alan)\n",
    "\n",
    "elif secim ==\"dikdörtgen\":\n",
    "    uzunkenar = int(input(\"Lütfen uzun kenarı giriniz:\"))\n",
    "    kısakenar = int(input(\"Lütfen kısa kenarı giriniz:\"))\n",
    "    alan = uzunkenar * kısakenar\n",
    "    print(\"Uzun kenarı\",uzunkenar,\"olan kısa kenarı\",kısakenar,\"olan dikdörtgenin alanı = \",alan)\n",
    "    \n",
    "elif secim == \"daire\":\n",
    "    yarıcap = int(input(\"Dairenin yarıçapını giriniz:\"))\n",
    "    alan = 3 * yarıcap**2\n",
    "    print(\"yarıçapı\",yarıcap,\"olan dairenin alanı=\",alan)\n",
    "    \n",
    "else:\n",
    "    print(\"Yanlış bir seçim yaptınız lütfen tekrar seçim yapınız!\")"
   ]
  },
  {
   "cell_type": "code",
   "execution_count": null,
   "metadata": {},
   "outputs": [],
   "source": []
  },
  {
   "cell_type": "code",
   "execution_count": null,
   "metadata": {},
   "outputs": [],
   "source": []
  },
  {
   "cell_type": "code",
   "execution_count": null,
   "metadata": {},
   "outputs": [],
   "source": []
  }
 ],
 "metadata": {
  "kernelspec": {
   "display_name": "Python 3",
   "language": "python",
   "name": "python3"
  },
  "language_info": {
   "codemirror_mode": {
    "name": "ipython",
    "version": 3
   },
   "file_extension": ".py",
   "mimetype": "text/x-python",
   "name": "python",
   "nbconvert_exporter": "python",
   "pygments_lexer": "ipython3",
   "version": "3.7.3"
  }
 },
 "nbformat": 4,
 "nbformat_minor": 2
}
