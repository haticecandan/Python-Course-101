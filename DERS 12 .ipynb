{
 "cells": [
  {
   "cell_type": "markdown",
   "metadata": {},
   "source": [
    "# DERS 12: KOŞULLU ÖNERME (IF) UYGULAMALARI "
   ]
  },
  {
   "cell_type": "markdown",
   "metadata": {},
   "source": [
    "### UYGULAMA 1:\n",
    "\n",
    "Öğrencinin birinci sınav notu ile ikinci sınav notunun ortalaması 50 ve üzerine eşitse dersten geçti, değilse dersten kaldığını yazan programı yazınız. "
   ]
  },
  {
   "cell_type": "code",
   "execution_count": 2,
   "metadata": {},
   "outputs": [
    {
     "name": "stdout",
     "output_type": "stream",
     "text": [
      "Öğrencinin ilk sınav notunu giriniz:50\n",
      "Öğrencinin ikinci sınav notunu giriniz:85\n",
      "GEÇTİ\n"
     ]
    }
   ],
   "source": [
    "bir = int(input(\"Öğrencinin ilk sınav notunu giriniz:\"))\n",
    "iki = int(input(\"Öğrencinin ikinci sınav notunu giriniz:\"))\n",
    "\n",
    "ortalama = (bir+iki)/2\n",
    "\n",
    "if (ortalama >= 50):\n",
    "    print(\"GEÇTİ\")\n",
    "else:\n",
    "    print(\"KALDI\")"
   ]
  },
  {
   "cell_type": "code",
   "execution_count": null,
   "metadata": {},
   "outputs": [],
   "source": []
  },
  {
   "cell_type": "markdown",
   "metadata": {},
   "source": [
    "### UYGULAMA 2: \n",
    "Kullanıcıdan alınan sayının tek mi çift mi olduğunu bulan programı yazınız. "
   ]
  },
  {
   "cell_type": "code",
   "execution_count": 4,
   "metadata": {},
   "outputs": [
    {
     "name": "stdout",
     "output_type": "stream",
     "text": [
      "Bir sayı giriniz:10\n",
      "Girilen sayı çift sayıdır.\n"
     ]
    }
   ],
   "source": [
    "sayi = int(input(\"Bir sayı giriniz:\"))\n",
    "# sayının 2ye bölümünden kalan sıfır ise o sayı çift sayıdır. \n",
    "if (sayi%2 == 0):\n",
    "    print(\"Girilen sayı çift sayıdır.\")\n",
    "else:\n",
    "    print(\"Girilen sayı tek sayıdır.\")    "
   ]
  },
  {
   "cell_type": "code",
   "execution_count": null,
   "metadata": {},
   "outputs": [],
   "source": []
  },
  {
   "cell_type": "code",
   "execution_count": null,
   "metadata": {},
   "outputs": [],
   "source": []
  },
  {
   "cell_type": "markdown",
   "metadata": {},
   "source": [
    "###  UYGULAMA 3:\n",
    "Kullanıcıdan alınan iki adet sayıdan büyük olanını bulan programı yazınız. "
   ]
  },
  {
   "cell_type": "code",
   "execution_count": 11,
   "metadata": {},
   "outputs": [
    {
     "name": "stdout",
     "output_type": "stream",
     "text": [
      "Bir sayı giriniz:90\n",
      "İkinci sayıyı giriniz:10\n",
      "Büyük olan sayı: 90\n"
     ]
    }
   ],
   "source": [
    "sayi1= int(input(\"Bir sayı giriniz:\"))\n",
    "sayi2= int(input(\"İkinci sayıyı giriniz:\"))\n",
    "\n",
    "if (sayi1>sayi2):\n",
    "    print(\"Büyük olan sayı:\",sayi1)\n",
    "if (sayi1<sayi2):\n",
    "    print(\"Büyük olan sayı:\",sayi2)\n",
    "if (sayi1==sayi2):\n",
    "    print(\"Girdiğiniz sayılar birbirine eşittir.\")\n",
    "    "
   ]
  },
  {
   "cell_type": "code",
   "execution_count": null,
   "metadata": {},
   "outputs": [],
   "source": []
  },
  {
   "cell_type": "markdown",
   "metadata": {},
   "source": [
    "### UYGULAMA 4:\n",
    "Kullanıcıdan alınan santimetre cinsinden boy uzunluğu aşağıdaki standartlardaysa ona göre çıktı üreten programı yazınız : \n",
    "\n",
    "- 150 cm'den küçükse yada eşitse KISA\n",
    "- 150 cm'den büyük veya 170 cm'den kısaysa NORMAL\n",
    "- 170 cm'e eşit yada uzunsa UZUN \n",
    "\n",
    "yazan programı yazınız. \n"
   ]
  },
  {
   "cell_type": "code",
   "execution_count": 12,
   "metadata": {},
   "outputs": [
    {
     "name": "stdout",
     "output_type": "stream",
     "text": [
      "Boyunuzu giriniz:165\n",
      "Boyunuz normaldir.\n"
     ]
    }
   ],
   "source": [
    "boy = int(input(\"Boyunuzu giriniz:\"))\n",
    "\n",
    "if (boy <=150):\n",
    "    print(\"Boyunuz kısadır.\")\n",
    "if (150<boy<170):\n",
    "    print(\"Boyunuz normaldir.\")\n",
    "if (boy>=170):\n",
    "    print(\"Boyunuz Uzundur.\")"
   ]
  },
  {
   "cell_type": "code",
   "execution_count": null,
   "metadata": {},
   "outputs": [],
   "source": []
  },
  {
   "cell_type": "code",
   "execution_count": null,
   "metadata": {},
   "outputs": [],
   "source": []
  },
  {
   "cell_type": "markdown",
   "metadata": {},
   "source": [
    "### UYGULAMA 5:\n",
    "Kullanıcı bir uygulamaya girmek için Email ve parola bilgileri ile giriş yapacaktır. Daha önceden sistemde kayıtlı bilgiler ile girilen bilgileri karşılaştırarak eğer doğru kullanıcı adı ve parolayla giriş yapmışsa ekrana \"\"GİRİŞ İŞLEMİ BAŞARILI\" yazan programı kodlayınız . "
   ]
  },
  {
   "cell_type": "code",
   "execution_count": 14,
   "metadata": {},
   "outputs": [
    {
     "name": "stdout",
     "output_type": "stream",
     "text": [
      "Mail adresinizi giriniz:kodlama@gmail.com\n",
      "Şifrenizi giriniz:20212021\n",
      "LÜTFEN YENİDEN GİRİNİZ!\n"
     ]
    }
   ],
   "source": [
    "#sistemde kayıtlı bilgiler\n",
    "mail_sistem = \"kodlama@gmail.com\"\n",
    "sifre_sistem =\"20212022\"\n",
    "\n",
    "#kullanıcıdan alınan bilgiler \n",
    "mail=input(\"Mail adresinizi giriniz:\")\n",
    "sifre = input(\"Şifrenizi giriniz:\")\n",
    "\n",
    "\n",
    "if (mail==mail_sistem) and (sifre ==sifre_sistem):\n",
    "    print(\"GİRİŞ İŞLEMİ BAŞARILI\")\n",
    "else:\n",
    "    print(\"LÜTFEN YENİDEN GİRİNİZ!\")\n",
    "\n"
   ]
  },
  {
   "cell_type": "markdown",
   "metadata": {},
   "source": [
    "# ÖDEV 12 \n",
    "**1) Bir otoparkta park eden kişinin kaldığı dakikaya göre ödeyeceği ücreti hesaplayan programı yazınız. Dakikayı kullanıcıdan alınız.** \n",
    "\n",
    "Otopark kullanım ücreti şu şekildedir:\n",
    "\n",
    "- 15 dakikadan az kalındıysa 5 TL\n",
    "- 15 dakika ile 45 dakika arasındaysa 15 TL\n",
    "- 45 dakika ile 60 dakika arasındaysa 25 TL\n",
    "- 1 saatten uzun kalındıysa 40 TL\n",
    "\n"
   ]
  },
  {
   "cell_type": "code",
   "execution_count": 6,
   "metadata": {},
   "outputs": [
    {
     "name": "stdout",
     "output_type": "stream",
     "text": [
      "Kullanım dakikanızı giriniz:25\n",
      "Ödemeniz gereken tutar 15 TL\n"
     ]
    }
   ],
   "source": [
    "dk = int(input(\"Kullanım dakikanızı giriniz:\"))\n",
    "\n",
    "if (dk <15):\n",
    "    print(\"Ödemeniz gereken tutar 5 TL\")\n",
    "if (15<= dk<45):\n",
    "    print(\"Ödemeniz gereken tutar 15 TL\")\n",
    "if (45<=dk<60):\n",
    "    print(\"Ödemeniz gereken tutar 25 TL\")\n",
    "if (dk>=60):\n",
    "    print(\"Ödemeniz gereken tutar 40 TL\")    "
   ]
  },
  {
   "cell_type": "code",
   "execution_count": null,
   "metadata": {},
   "outputs": [],
   "source": []
  },
  {
   "cell_type": "code",
   "execution_count": null,
   "metadata": {},
   "outputs": [],
   "source": []
  },
  {
   "cell_type": "markdown",
   "metadata": {},
   "source": [
    "**2) liste = [10,5,25,30,80]**\n",
    "\n",
    "yukarıdaki liste için eğer listenin ilk ve sonuncu elemanı 5'e tam bölünüyorsa \n",
    "ekrana \"Listenin ilk ve son elemanı 5'e tam bölünüyor\", değilse \"Listenin ilk ve son elemanı 5'e tam bölünmüyor\" yazan programı kodlayınız."
   ]
  },
  {
   "cell_type": "code",
   "execution_count": 9,
   "metadata": {},
   "outputs": [
    {
     "name": "stdout",
     "output_type": "stream",
     "text": [
      "Listenin ilk ve son elemanı 5'e tam bölünüyor\n"
     ]
    }
   ],
   "source": [
    "list = [10,5,25,30,80]\n",
    "if (list[0]%5 == 0) and (list[-1]%5 == 0):\n",
    "    print(\"Listenin ilk ve son elemanı 5'e tam bölünüyor\")\n",
    "else:\n",
    "     print(\"Listenin ilk ve son elemanı 5'e tam bölünmüyor\")"
   ]
  },
  {
   "cell_type": "markdown",
   "metadata": {},
   "source": [
    "**3) Kullanıcının ehliyet alıp alamayacağına karar veren programı bulunuz. Direksiyon puanını ve yazılı puanı kullanıcıdan alınız.** \n",
    "\n",
    "Kullanıcının ehliyet alabilmesi için gerekli puan koşulu 70 ve üzeri olmalıdır ve şu şekilde hesaplanır :\n",
    "    \n",
    "    Puan = (Direksiyon Sınavı x 0.6) + (Yazılı Puan x 0.4)\n",
    "    \n",
    "Eğer puan 70 ve üzeri ise ehliyet almaya hak kazanılır, değilse ehliyet sınavına yeniden girmek gereklidir.     \n",
    "    "
   ]
  },
  {
   "cell_type": "code",
   "execution_count": 10,
   "metadata": {},
   "outputs": [
    {
     "name": "stdout",
     "output_type": "stream",
     "text": [
      "Direksiyon sınavı puanınızı giriniz:50\n",
      "Yazılı sınavı puanınızı giriniz:100\n",
      "Ehliyet almaya hak kazandınız\n"
     ]
    }
   ],
   "source": [
    "direksiyon = float(input(\"Direksiyon sınavı puanınızı giriniz:\"))\n",
    "yazili = float(input(\"Yazılı sınavı puanınızı giriniz:\"))\n",
    "\n",
    "\n",
    "puan = direksiyon *0.6 + yazili*0.4\n",
    "\n",
    "if puan>=70 :\n",
    "    print(\"Ehliyet almaya hak kazandınız\")\n",
    "else:\n",
    "    print(\"Ehliyet almaya hak KAZANAMADINIZ\")"
   ]
  },
  {
   "cell_type": "markdown",
   "metadata": {},
   "source": [
    "**4)Kullanıcıdan ismini ve soy ismini ayrı değişkenlerde alınız. Eğer kullanıcının ismi yada soyisminden hangisi daha uzunsa onu büyük harflerle \n",
    "ekrana yazan programı yazınız.** "
   ]
  },
  {
   "cell_type": "code",
   "execution_count": null,
   "metadata": {},
   "outputs": [],
   "source": [
    "ad = input(\"isminiz:\")\n",
    "soyad = input(\"soyisminiz:\")\n",
    "\n",
    "if len(ad)>len(soyad) : \n",
    "    print(\"İsminiz daha uzundur\",ad.upper())\n",
    "else:\n",
    "    print(\"Soyisminiz daha uzundur\",soyad.upper())"
   ]
  },
  {
   "cell_type": "code",
   "execution_count": null,
   "metadata": {},
   "outputs": [],
   "source": []
  }
 ],
 "metadata": {
  "kernelspec": {
   "display_name": "Python 3",
   "language": "python",
   "name": "python3"
  },
  "language_info": {
   "codemirror_mode": {
    "name": "ipython",
    "version": 3
   },
   "file_extension": ".py",
   "mimetype": "text/x-python",
   "name": "python",
   "nbconvert_exporter": "python",
   "pygments_lexer": "ipython3",
   "version": "3.7.3"
  }
 },
 "nbformat": 4,
 "nbformat_minor": 2
}
