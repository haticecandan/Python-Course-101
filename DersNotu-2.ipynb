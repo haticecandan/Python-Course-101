{
 "cells": [
  {
   "cell_type": "markdown",
   "metadata": {},
   "source": [
    "###  ÖDEV-1\n",
    "AŞAĞIDAKİ ADIMLARI TEK TEK UYGULAYINIZ.\n",
    "\n",
    "1) x değişkenine 6 değerini atayın   \n",
    "\n",
    "2) y değişkenine 4 değerini atayın\n",
    "\n",
    "3) z değişkenine x ve y değişkenlerinin toplamını atayın\n",
    "\n",
    "4) z değişkeni ekrana yazdırın\n",
    "\n",
    "5) k değişkenine x ve y değişkenlerinin çarpımını atayın\n",
    "\n",
    "6) k değişkeni ekrana yazdırın\n",
    "\n",
    "AŞAĞIDAKİ DEĞİŞKEN İSİMLERİNDEN HATALIDIR ?\n",
    "\n",
    "1) \"kullanıcı?\"                        HATALI\n",
    "\n",
    "2) \"deger\"                             DOĞRU\n",
    "\n",
    "3) \"kullanıcı_adı\"                     DOĞRU\n",
    "\n",
    "4) \"3kişi\"                             HATALI\n",
    "\n",
    "5) \"kullanıcı%adı\"                    HATALI\n",
    "\n",
    "6) \"banka*hesabı+-/\"                  HATALI"
   ]
  },
  {
   "cell_type": "code",
   "execution_count": 2,
   "metadata": {},
   "outputs": [
    {
     "name": "stdout",
     "output_type": "stream",
     "text": [
      "10\n"
     ]
    }
   ],
   "source": [
    "x=6\n",
    "y=4\n",
    "z=x+y\n",
    "print(z)"
   ]
  },
  {
   "cell_type": "code",
   "execution_count": 3,
   "metadata": {},
   "outputs": [
    {
     "name": "stdout",
     "output_type": "stream",
     "text": [
      "24\n"
     ]
    }
   ],
   "source": [
    "k=x*y\n",
    "print(k)"
   ]
  },
  {
   "cell_type": "markdown",
   "metadata": {},
   "source": [
    "###  DERS 2\n",
    "\n",
    "Sayılarla işlemlerden devam edeceğiz. \n"
   ]
  },
  {
   "cell_type": "code",
   "execution_count": 5,
   "metadata": {},
   "outputs": [
    {
     "name": "stdout",
     "output_type": "stream",
     "text": [
      "4\n"
     ]
    },
    {
     "data": {
      "text/plain": [
       "8"
      ]
     },
     "execution_count": 5,
     "metadata": {},
     "output_type": "execute_result"
    }
   ],
   "source": [
    "a=2 \n",
    "karesi = a**2\n",
    "print(karesi)\n",
    "kübü = a**3\n",
    "kübü"
   ]
  },
  {
   "cell_type": "code",
   "execution_count": 67,
   "metadata": {},
   "outputs": [
    {
     "name": "stdout",
     "output_type": "stream",
     "text": [
      "5.7\n"
     ]
    }
   ],
   "source": [
    "#Toplama İşlemi\n",
    "ilksayi=2.2\n",
    "ikincisayi= 3.5\n",
    "toplam = ilksayi+ikincisayi\n",
    "print(toplam)"
   ]
  },
  {
   "cell_type": "code",
   "execution_count": 7,
   "metadata": {},
   "outputs": [
    {
     "data": {
      "text/plain": [
       "float"
      ]
     },
     "execution_count": 7,
     "metadata": {},
     "output_type": "execute_result"
    }
   ],
   "source": [
    "type(toplam)  #type fonksiyonu sayının hangi tip olduğunu gösterir"
   ]
  },
  {
   "cell_type": "code",
   "execution_count": 8,
   "metadata": {},
   "outputs": [
    {
     "name": "stdout",
     "output_type": "stream",
     "text": [
      "5.500000000000001\n"
     ]
    }
   ],
   "source": [
    "#Çıkarma İşlemi\n",
    "ilksayi=8.8\n",
    "ikincisayi= 3.3\n",
    "çıkar = ilksayi - ikincisayi\n",
    "print(çıkar)"
   ]
  },
  {
   "cell_type": "code",
   "execution_count": 9,
   "metadata": {},
   "outputs": [
    {
     "name": "stdout",
     "output_type": "stream",
     "text": [
      "3.5\n"
     ]
    }
   ],
   "source": [
    "#Çarpma İşlemi\n",
    "sayi_bir = 2.5\n",
    "sayi_iki = 1.4\n",
    "çarpma = sayi_bir * sayi_iki\n",
    "print(çarpma)"
   ]
  },
  {
   "cell_type": "code",
   "execution_count": 13,
   "metadata": {
    "scrolled": true
   },
   "outputs": [
    {
     "name": "stdout",
     "output_type": "stream",
     "text": [
      "4.5\n"
     ]
    }
   ],
   "source": [
    "#Bölme İşlemi\n",
    "sayi_bir = 7.2\n",
    "sayi_iki = 1.6\n",
    "bolme = sayi_bir /sayi_iki\n",
    "print(bolme)"
   ]
  },
  {
   "cell_type": "markdown",
   "metadata": {},
   "source": [
    "### UYGULAMA 1 : DAİRENİN ÇEVRESİNİ HESAPLAYALIM\n",
    "\n",
    "İlk olarak algoritmayı düşünelim. Dairenin çevresi için bize neler lazım. \n",
    "\n",
    "Daire çevresi = 2*pi*r  formülünden bulunuyor. \n",
    "\n",
    "Burada pi sayısı ve dairenin yarıçapı (r) gereklidir. \n",
    "\n",
    "Pi sayısı ile dairenin çapını ve 2 sayısını çarpnınca dairenin çevresi bulunmaktadır. "
   ]
  },
  {
   "cell_type": "code",
   "execution_count": 14,
   "metadata": {},
   "outputs": [
    {
     "name": "stdout",
     "output_type": "stream",
     "text": [
      "24\n"
     ]
    }
   ],
   "source": [
    "pi_sayısı = 3\n",
    "yarıçap = 4 \n",
    "çevre = 2*pi_sayısı*yarıçap\n",
    "print(çevre)\n"
   ]
  },
  {
   "cell_type": "markdown",
   "metadata": {},
   "source": [
    "#### Şimdi ise daire yarıçapını kullanıcıdan isteyelim . Burada input fonksiyonu kullanmamız gerekmektedir "
   ]
  },
  {
   "cell_type": "code",
   "execution_count": 20,
   "metadata": {},
   "outputs": [
    {
     "name": "stdout",
     "output_type": "stream",
     "text": [
      "Dairenin yarıçapını giriniz : 2\n",
      "12\n"
     ]
    }
   ],
   "source": [
    "yarıçap=int(input(\"Dairenin yarıçapını giriniz : \"))\n",
    "çevre =2*pi_sayısı*yarıçap\n",
    "print(çevre)"
   ]
  },
  {
   "cell_type": "markdown",
   "metadata": {},
   "source": [
    "### UYGULAMA 2 : DAİRENİN ALANINI HESAPLAYALIM\n",
    "\n",
    "İlk olarak algoritmayı düşünelim. Dairenin alanı için bize neler lazım. \n",
    "\n",
    "Daire alanı = pi*r**2  formülünden bulunuyor. \n",
    "\n",
    "Burada pi sayısı ve dairenin yarıçapı (r) gereklidir. \n",
    "\n",
    "Pi sayısı ile dairenin yarıçapının karesini çarpınca dairenin alanı bulunmaktadır. "
   ]
  },
  {
   "cell_type": "code",
   "execution_count": 21,
   "metadata": {},
   "outputs": [
    {
     "name": "stdout",
     "output_type": "stream",
     "text": [
      "12\n"
     ]
    }
   ],
   "source": [
    "pi_sayısı = 3\n",
    "yarıçap = 2\n",
    "alan=pi_sayısı *yarıçap**2\n",
    "print(alan)"
   ]
  },
  {
   "cell_type": "markdown",
   "metadata": {},
   "source": [
    "#### Şimdi ise daire yarıçapını kullanıcıdan isteyelim . Burada input fonksiyonu kullanmamız gerekmektedir "
   ]
  },
  {
   "cell_type": "code",
   "execution_count": 51,
   "metadata": {},
   "outputs": [
    {
     "name": "stdout",
     "output_type": "stream",
     "text": [
      "Dairenin yarıçapını giriniz : 5\n",
      "75\n",
      "Dairenin alanı =  75\n",
      "Yarıçapı  5 olan dairenin alanı  75 metrekaredir.\n"
     ]
    }
   ],
   "source": [
    "yarıçap=int(input(\"Dairenin yarıçapını giriniz : \"))\n",
    "alan=pi_sayısı *yarıçap**2\n",
    "print(alan)\n",
    "print(\"Dairenin alanı = \", alan)\n",
    "print(\"Yarıçapı \", yarıçap, \"olan dairenin alanı \", alan, \"metrekaredir.\")"
   ]
  },
  {
   "cell_type": "markdown",
   "metadata": {},
   "source": [
    "### UYGULAMA 3 : ÜÇGENİN ÇEVRESİNİ HESAPLAYALIM\n",
    "\n",
    "İlk olarak algoritmayı düşünelim. Üçgenin çevresi için bize neler lazım. \n",
    "\n",
    "Üçgenin çevresi = kenar1 + kenar2 +kenar3 formülünden bulunuyor. \n",
    "\n",
    "Burada bize üçgenin 3 kenarının da uzunluğu gereklidir. "
   ]
  },
  {
   "cell_type": "code",
   "execution_count": 62,
   "metadata": {},
   "outputs": [
    {
     "name": "stdout",
     "output_type": "stream",
     "text": [
      "Üçgenin kenarlarını giriniz : 523\n"
     ]
    },
    {
     "data": {
      "text/plain": [
       "10"
      ]
     },
     "execution_count": 62,
     "metadata": {},
     "output_type": "execute_result"
    }
   ],
   "source": [
    "kenar1,kenar2,kenar3=input(\"Üçgenin kenarlarını giriniz : \")\n",
    "kenar1 = int(kenar1)\n",
    "kenar2 = int(kenar2)\n",
    "kenar3 = int(kenar3)\n",
    "çevre = kenar1+ kenar2 +kenar3\n"
   ]
  },
  {
   "cell_type": "markdown",
   "metadata": {},
   "source": [
    "### ÖDEV 2 : BİR DİKDÖRTGENİN ALANINI VE ÇEVRESİNİ HESAPLAYAN PROGRAMI YAZINIZ\n",
    "\n",
    "- Dikdörtgenin kenar uzunluklarını kısa kenar ve uzun kenar olarak kullanıcıdan tek tek alınız. \n",
    "- Dİkdörtgenin karşılıklı kenarlarının birbirine eşit olduğunu unutmayınız.\n",
    "- Dikdörtgenin alanı için formülümüz = kısa kenar x uzun kenar\n",
    "- Dikdörtgenin çevresi için formülümüz = 2 x (kısa kenar + uzun kenar)\n",
    "- Çevre ve alan değerlerini ekrana yazdırınız. \n",
    "\n",
    "Örneğin;\n",
    "\n",
    "\"Kısa kenarı 3, uzun kenarı 5 olan dikdörtgenin çevresi 16\"\n",
    "\n",
    "\"Kısa kenarı 3, uzun kenarı 5 olan dikdörtgenin alanı 15\""
   ]
  },
  {
   "cell_type": "markdown",
   "metadata": {},
   "source": [
    "### Yorum Satırı (Comment Line)\n",
    "\n",
    "Programımıza açıklama olarak eklediğimiz satırlardır. \n",
    "Bu satırlar Pyhton tarafından görülmez ve çalıştırılmazlar fakat kodumuzu açıklamak için kullanılırlar\n",
    "kare, diyez, şarp # işareti konulur\n",
    "\n"
   ]
  },
  {
   "cell_type": "code",
   "execution_count": 35,
   "metadata": {},
   "outputs": [
    {
     "name": "stdout",
     "output_type": "stream",
     "text": [
      "11\n"
     ]
    }
   ],
   "source": [
    "# Yorum satırı\n",
    "print(5+6)"
   ]
  },
  {
   "cell_type": "code",
   "execution_count": null,
   "metadata": {},
   "outputs": [],
   "source": []
  }
 ],
 "metadata": {
  "kernelspec": {
   "display_name": "Python 3",
   "language": "python",
   "name": "python3"
  },
  "language_info": {
   "codemirror_mode": {
    "name": "ipython",
    "version": 3
   },
   "file_extension": ".py",
   "mimetype": "text/x-python",
   "name": "python",
   "nbconvert_exporter": "python",
   "pygments_lexer": "ipython3",
   "version": "3.7.3"
  }
 },
 "nbformat": 4,
 "nbformat_minor": 2
}
