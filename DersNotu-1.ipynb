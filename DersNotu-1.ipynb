{
 "cells": [
  {
   "cell_type": "markdown",
   "metadata": {},
   "source": [
    "# PYTHON PROGRAMLAMA DİLİ TEMELLERİ "
   ]
  },
  {
   "cell_type": "code",
   "execution_count": 1,
   "metadata": {},
   "outputs": [
    {
     "name": "stdout",
     "output_type": "stream",
     "text": [
      "Merhaba Dünya\n"
     ]
    }
   ],
   "source": [
    "print (\"Merhaba Dünya\")"
   ]
  },
  {
   "cell_type": "code",
   "execution_count": 2,
   "metadata": {},
   "outputs": [
    {
     "name": "stdout",
     "output_type": "stream",
     "text": [
      "İsminizi Girin : hatice\n"
     ]
    },
    {
     "data": {
      "text/plain": [
       "'hatice'"
      ]
     },
     "execution_count": 2,
     "metadata": {},
     "output_type": "execute_result"
    }
   ],
   "source": [
    "input (\"İsminizi Girin : \")"
   ]
  },
  {
   "cell_type": "code",
   "execution_count": 3,
   "metadata": {},
   "outputs": [
    {
     "name": "stdout",
     "output_type": "stream",
     "text": [
      "Soy Adınızı Girin: Candan\n"
     ]
    },
    {
     "data": {
      "text/plain": [
       "'Candan'"
      ]
     },
     "execution_count": 3,
     "metadata": {},
     "output_type": "execute_result"
    }
   ],
   "source": [
    "input (\"Soy Adınızı Girin: \")"
   ]
  },
  {
   "cell_type": "markdown",
   "metadata": {},
   "source": [
    "### Değişkenler (Variables) ve Sabitler (Constants)\n",
    "\n",
    "Bu kısımda değişkenleri ve sabitleri öğreneceğiz.\n",
    "Değişkenlerin değerleri kodun içinde değiştirilebilmektedir. Yani aynı kodun farklı bölümlerinde farklı değerler alabilirler.\n",
    "Sonradan değerleri değiştirilebilir.\n",
    "\n",
    "değişken_adı = değişken_değeri\n",
    "\n",
    "\n",
    "Sabitlerin ise değeri daha sonradan değiştirilemez. \n",
    "\n",
    "sabit_adı = sabit_değeri\n"
   ]
  },
  {
   "cell_type": "markdown",
   "metadata": {},
   "source": [
    "### Pythonda Atama İşlemi\n",
    "\n",
    "Pythonda bir değeri bir değişkene atamak için  eşittir işaretini \" = \" kullanırım."
   ]
  },
  {
   "cell_type": "code",
   "execution_count": null,
   "metadata": {},
   "outputs": [],
   "source": [
    "a = 2    # a, değişken ismidir. 2 sayısı da değişkenin değeri "
   ]
  },
  {
   "cell_type": "code",
   "execution_count": null,
   "metadata": {},
   "outputs": [],
   "source": [
    "bilgi = 20  # değişken ismi ? , değişken sayısı ? "
   ]
  },
  {
   "cell_type": "code",
   "execution_count": null,
   "metadata": {},
   "outputs": [],
   "source": []
  },
  {
   "cell_type": "code",
   "execution_count": null,
   "metadata": {},
   "outputs": [],
   "source": []
  },
  {
   "cell_type": "markdown",
   "metadata": {},
   "source": [
    "### Değişkenler (Variables) ve Sabitler (Constants)\n",
    "\n",
    "Bu kısımda değişkenleri ve sabitleri öğreneceğiz.\n",
    "Değişkenlerin değerleri kodun içinde değiştirilebilmektedir. Yani aynı kodun farklı bölümlerinde farklı değerler alabilirler.\n",
    "Sonradan değerleri değiştirilebilir.\n",
    "\n",
    "değişken_adı = değişken_değeri\n",
    "\n",
    "\n",
    "Sabitlerin ise değeri daha sonradan değiştirilemez. \n",
    "\n",
    "sabit_adı = sabit_değeri\n"
   ]
  },
  {
   "cell_type": "code",
   "execution_count": 7,
   "metadata": {},
   "outputs": [
    {
     "name": "stdout",
     "output_type": "stream",
     "text": [
      "hatice\n",
      "candan\n"
     ]
    }
   ],
   "source": [
    "ismim = \"hatice\"\n",
    "soyismim = \"candan\"\n",
    "\n",
    "print(ismim)\n",
    "print(soyismim)"
   ]
  },
  {
   "cell_type": "code",
   "execution_count": 8,
   "metadata": {},
   "outputs": [
    {
     "name": "stdout",
     "output_type": "stream",
     "text": [
      "büşra\n"
     ]
    }
   ],
   "source": [
    "ismim = \"büşra\"\n",
    "print(ismim)"
   ]
  },
  {
   "cell_type": "code",
   "execution_count": 9,
   "metadata": {},
   "outputs": [],
   "source": [
    "PI = 3.14  #sabittir"
   ]
  },
  {
   "cell_type": "markdown",
   "metadata": {},
   "source": [
    "### Değişken İsimlendirilirken Dikkat Edilmesi Gerekenler \n",
    "\n",
    "KURALLAR !\n",
    "\n",
    "1. Değişken isimleri bir sayı ile başlayamaz\n",
    "2. Değişken ismi kelimelerden oluşuyorsa aralarında boşluk olamaz\n",
    "3. :,\"\"<>/?[]\\()*$%!--- gibi semboller değişken ismi içinde kullanılamaz, yalnızca _ sembolü kullanılabilir.\n",
    "4. Pythonda tanımlı anahtar kelimeler de değişken isminde kullanılamaz"
   ]
  },
  {
   "cell_type": "code",
   "execution_count": 30,
   "metadata": {},
   "outputs": [
    {
     "ename": "SyntaxError",
     "evalue": "invalid syntax (<ipython-input-30-9d318601057d>, line 1)",
     "output_type": "error",
     "traceback": [
      "\u001b[1;36m  File \u001b[1;32m\"<ipython-input-30-9d318601057d>\"\u001b[1;36m, line \u001b[1;32m1\u001b[0m\n\u001b[1;33m    kullanici adı\u001b[0m\n\u001b[1;37m                ^\u001b[0m\n\u001b[1;31mSyntaxError\u001b[0m\u001b[1;31m:\u001b[0m invalid syntax\n"
     ]
    }
   ],
   "source": [
    "kullanici adı #Hatalı"
   ]
  },
  {
   "cell_type": "code",
   "execution_count": 33,
   "metadata": {},
   "outputs": [
    {
     "ename": "TypeError",
     "evalue": "'int' object is not callable",
     "output_type": "error",
     "traceback": [
      "\u001b[1;31m---------------------------------------------------------------------------\u001b[0m",
      "\u001b[1;31mTypeError\u001b[0m                                 Traceback (most recent call last)",
      "\u001b[1;32m<ipython-input-33-8b1f05181eb6>\u001b[0m in \u001b[0;36m<module>\u001b[1;34m\u001b[0m\n\u001b[0;32m      1\u001b[0m \u001b[0mprint\u001b[0m\u001b[1;33m=\u001b[0m\u001b[1;36m5\u001b[0m\u001b[1;33m\u001b[0m\u001b[1;33m\u001b[0m\u001b[0m\n\u001b[1;32m----> 2\u001b[1;33m \u001b[0mprint\u001b[0m\u001b[1;33m(\u001b[0m\u001b[0mprint\u001b[0m\u001b[1;33m)\u001b[0m\u001b[1;33m\u001b[0m\u001b[1;33m\u001b[0m\u001b[0m\n\u001b[0m",
      "\u001b[1;31mTypeError\u001b[0m: 'int' object is not callable"
     ]
    }
   ],
   "source": [
    "print=5\n",
    "print(print)"
   ]
  },
  {
   "cell_type": "code",
   "execution_count": 29,
   "metadata": {},
   "outputs": [
    {
     "ename": "SyntaxError",
     "evalue": "invalid syntax (<ipython-input-29-2e3538331577>, line 1)",
     "output_type": "error",
     "traceback": [
      "\u001b[1;36m  File \u001b[1;32m\"<ipython-input-29-2e3538331577>\"\u001b[1;36m, line \u001b[1;32m1\u001b[0m\n\u001b[1;33m    1a = 3  #Hatalı\u001b[0m\n\u001b[1;37m     ^\u001b[0m\n\u001b[1;31mSyntaxError\u001b[0m\u001b[1;31m:\u001b[0m invalid syntax\n"
     ]
    }
   ],
   "source": [
    "1a = 3  #Hatalı "
   ]
  },
  {
   "cell_type": "code",
   "execution_count": 13,
   "metadata": {},
   "outputs": [],
   "source": [
    "türk-ünlü= \"Hadise\" #Hatalı "
   ]
  },
  {
   "cell_type": "code",
   "execution_count": null,
   "metadata": {},
   "outputs": [],
   "source": [
    "türkünlü = \"Hadise\"\n",
    "türk_ünlü = \"Hadise\""
   ]
  },
  {
   "cell_type": "code",
   "execution_count": 17,
   "metadata": {},
   "outputs": [],
   "source": [
    "False = 3 #hatalı\n",
    "True = 5  #hatalı"
   ]
  },
  {
   "cell_type": "markdown",
   "metadata": {},
   "source": []
  },
  {
   "cell_type": "markdown",
   "metadata": {},
   "source": [
    "## Pythonda Sayılar\n"
   ]
  },
  {
   "cell_type": "markdown",
   "metadata": {},
   "source": [
    " "
   ]
  },
  {
   "cell_type": "markdown",
   "metadata": {},
   "source": [
    "###  Tam Sayılar (Integer)\n",
    "\n",
    "Matematikte yer alan tüm sayılar Pyhtonda bir veridir. İngilizce de integer olarak bilinir.\n",
    "Örneğin : 5 , -25 , 2000, 695485, "
   ]
  },
  {
   "cell_type": "markdown",
   "metadata": {},
   "source": [
    "### Ondalıklı Sayılar (Float)\n",
    "\n",
    "Rasyonel sayılarda paydası 10 ve 10 sayısının kuvvetleri olan kesirlere ondalık sayı denmektedir. Pythonda da bu tanım geçerlidir. İngilizcesi Float olarak bilinir. Örneğin : 3.2 , 58.96 , 200.5 , -2.5"
   ]
  },
  {
   "cell_type": "code",
   "execution_count": 36,
   "metadata": {},
   "outputs": [
    {
     "data": {
      "text/plain": [
       "float"
      ]
     },
     "execution_count": 36,
     "metadata": {},
     "output_type": "execute_result"
    }
   ],
   "source": [
    "sayı1 = 5\n",
    "sayı2 = -56\n",
    "sayı3 = -2.5\n",
    "sayı4 = 23.8\n",
    "\n",
    "type(sayı3)"
   ]
  },
  {
   "cell_type": "markdown",
   "metadata": {},
   "source": [
    "###  Matematiksel İşlemler \n",
    "\n",
    "Basit Dört işlemi Pythonda nasıl yaparız?\n",
    "\n",
    "Toplama = + \n",
    "\n",
    "Çıkarma = - \n",
    "\n",
    "Çarpma = * \n",
    "\n",
    "Bölme = / "
   ]
  },
  {
   "cell_type": "code",
   "execution_count": 23,
   "metadata": {},
   "outputs": [
    {
     "data": {
      "text/plain": [
       "18"
      ]
     },
     "execution_count": 23,
     "metadata": {},
     "output_type": "execute_result"
    }
   ],
   "source": [
    "15+3"
   ]
  },
  {
   "cell_type": "code",
   "execution_count": 24,
   "metadata": {},
   "outputs": [
    {
     "data": {
      "text/plain": [
       "12"
      ]
     },
     "execution_count": 24,
     "metadata": {},
     "output_type": "execute_result"
    }
   ],
   "source": [
    "15-3"
   ]
  },
  {
   "cell_type": "code",
   "execution_count": 25,
   "metadata": {},
   "outputs": [
    {
     "data": {
      "text/plain": [
       "45"
      ]
     },
     "execution_count": 25,
     "metadata": {},
     "output_type": "execute_result"
    }
   ],
   "source": [
    "15*3"
   ]
  },
  {
   "cell_type": "code",
   "execution_count": 26,
   "metadata": {},
   "outputs": [
    {
     "data": {
      "text/plain": [
       "5.0"
      ]
     },
     "execution_count": 26,
     "metadata": {},
     "output_type": "execute_result"
    }
   ],
   "source": [
    "15/3"
   ]
  },
  {
   "cell_type": "code",
   "execution_count": 47,
   "metadata": {},
   "outputs": [
    {
     "data": {
      "text/plain": [
       "30"
      ]
     },
     "execution_count": 47,
     "metadata": {},
     "output_type": "execute_result"
    }
   ],
   "source": [
    "a = 25 \n",
    "b = 5 \n",
    "toplam = a+b \n",
    "toplam"
   ]
  },
  {
   "cell_type": "code",
   "execution_count": 50,
   "metadata": {},
   "outputs": [
    {
     "data": {
      "text/plain": [
       "20"
      ]
     },
     "execution_count": 50,
     "metadata": {},
     "output_type": "execute_result"
    }
   ],
   "source": [
    "çıkarma = a-b\n",
    "çıkarma"
   ]
  },
  {
   "cell_type": "code",
   "execution_count": 51,
   "metadata": {},
   "outputs": [
    {
     "data": {
      "text/plain": [
       "25"
      ]
     },
     "execution_count": 51,
     "metadata": {},
     "output_type": "execute_result"
    }
   ],
   "source": [
    "yenisayı= çıkarma + b\n",
    "yenisayı"
   ]
  },
  {
   "cell_type": "code",
   "execution_count": 52,
   "metadata": {},
   "outputs": [
    {
     "data": {
      "text/plain": [
       "5.0"
      ]
     },
     "execution_count": 52,
     "metadata": {},
     "output_type": "execute_result"
    }
   ],
   "source": [
    "bölme = a / b\n",
    "bölme"
   ]
  },
  {
   "cell_type": "code",
   "execution_count": 53,
   "metadata": {},
   "outputs": [
    {
     "data": {
      "text/plain": [
       "125"
      ]
     },
     "execution_count": 53,
     "metadata": {},
     "output_type": "execute_result"
    }
   ],
   "source": [
    "çarpma = a*b\n",
    "çarpma"
   ]
  },
  {
   "cell_type": "code",
   "execution_count": 54,
   "metadata": {},
   "outputs": [
    {
     "data": {
      "text/plain": [
       "625"
      ]
     },
     "execution_count": 54,
     "metadata": {},
     "output_type": "execute_result"
    }
   ],
   "source": [
    "karesi = a*a\n",
    "karesi"
   ]
  },
  {
   "cell_type": "code",
   "execution_count": 56,
   "metadata": {},
   "outputs": [
    {
     "data": {
      "text/plain": [
       "625"
      ]
     },
     "execution_count": 56,
     "metadata": {},
     "output_type": "execute_result"
    }
   ],
   "source": [
    "karesi = a**2\n",
    "karesi"
   ]
  },
  {
   "cell_type": "code",
   "execution_count": null,
   "metadata": {},
   "outputs": [],
   "source": []
  },
  {
   "cell_type": "markdown",
   "metadata": {},
   "source": [
    "### ÖDEV - 1\n",
    "\n",
    "AŞAĞIDAKİ ADIMLARI TEK TEK UYGULAYINIZ.\n",
    "\n",
    "1) x değişkenine 6 değerini atayın\n",
    "\n",
    "2) y değişkenine 4 değerini atayın\n",
    "\n",
    "3) z değişkenine x ve y değişkenlerinin toplamını atayın\n",
    "\n",
    "4) z değişkeni ekrana yazdırın\n",
    "\n",
    "5) k değişkenine x ve y değişkenlerinin çarpımını atayın\n",
    "\n",
    "6) k değişkeni ekrana yazdırın\n",
    "\n",
    "\n",
    "AŞAĞIDAKİ DEĞİŞKEN İSİMLERİNDEN HATALIDIR ?\n",
    "\n",
    "1) \"kullanıcı?\"   \n",
    "\n",
    "2) \"deger\"\n",
    "\n",
    "3) \"kullanıcı_adı\"\n",
    "\n",
    "4) \"3kişi\"\n",
    "\n",
    "5) \"kullanıcı%adı\"\n",
    "\n",
    "6) \"banka*hesabı+-/\" \n",
    "\n"
   ]
  },
  {
   "cell_type": "code",
   "execution_count": null,
   "metadata": {},
   "outputs": [],
   "source": []
  }
 ],
 "metadata": {
  "kernelspec": {
   "display_name": "Python 3",
   "language": "python",
   "name": "python3"
  },
  "language_info": {
   "codemirror_mode": {
    "name": "ipython",
    "version": 3
   },
   "file_extension": ".py",
   "mimetype": "text/x-python",
   "name": "python",
   "nbconvert_exporter": "python",
   "pygments_lexer": "ipython3",
   "version": "3.7.3"
  }
 },
 "nbformat": 4,
 "nbformat_minor": 2
}
