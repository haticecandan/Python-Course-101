{
 "cells": [
  {
   "cell_type": "markdown",
   "metadata": {},
   "source": [
    "# DERS 7 : UYGULAMA DERSİ"
   ]
  },
  {
   "cell_type": "markdown",
   "metadata": {},
   "source": [
    "### UYGULAMA 1 : \n",
    "**Kullanıcıdan alınan 3 basamaklı tam sayının basamaklarını bulan programı yazalım.** \n",
    "\n",
    "Çıktı şu şekilde olmalıdır : \n",
    "\n",
    "\n",
    "Lütfen 3 basamaklı bir sayı giriniz : 256\n",
    "\n",
    "Girilen 256 sayısının\n",
    "\n",
    "Birler basamağı : 6\n",
    "\n",
    "Onlar basamağı  : 5\n",
    "\n",
    "Yüzler basamağı : 2"
   ]
  },
  {
   "cell_type": "code",
   "execution_count": null,
   "metadata": {},
   "outputs": [],
   "source": [
    "sayi = input(\"Lütfen 3 basamaklı bir sayı giriniz: \")\n",
    "yuzler = int(sayi[0])\n",
    "onlar = int(sayi[1])\n",
    "birler = int(sayi[2])\n",
    "\n",
    "print(\"Girilen\", sayi,\"sayısının\\n Birler basamağı : \",birler, \"\\nOnlar basamağı :\",onlar,\"\\nYüzler basamağı:\",birler)"
   ]
  },
  {
   "cell_type": "markdown",
   "metadata": {},
   "source": [
    "### UYGULAMA 2 : \n",
    "**Kullanıcıdan alınan santigrat derece cinsinden girilen sıcaklığı Kelvin derece cinsine çeviren programı yazalım.** \n",
    "*0 °C = 273 K olduğunu unutmayalım. Alınan santigrat cinsinden sıcaklığı Kelvin'e çevirmek için 273 ile toplamamız gereklidir.* \n",
    "\n",
    "\n",
    "Çıktı şu şekilde olmalıdır : \n",
    "\n",
    "\n",
    "Lütfen santigrat derece cinsinden sıcaklığı giriniz: 22 \n",
    "\n",
    "Girilen 22 Santigrat derece 295 Kelvin'e eşittir. \n"
   ]
  },
  {
   "cell_type": "code",
   "execution_count": 3,
   "metadata": {},
   "outputs": [
    {
     "name": "stdout",
     "output_type": "stream",
     "text": [
      "Lütfen santigrat derece cinsinden sıcaklığı giriniz:0\n",
      "Girilen 0 santigrat derece 273 Kelvin'e eşittir.\n"
     ]
    }
   ],
   "source": [
    "santigrat = int(input(\"Lütfen santigrat derece cinsinden sıcaklığı giriniz:\"))\n",
    "# O derece = 273 kelvindir\n",
    "kelvin = santigrat + 273        #kelvine dönüşüm\n",
    "print(\"Girilen {} santigrat derece {} Kelvin'e eşittir.\".format(santigrat,kelvin))"
   ]
  },
  {
   "cell_type": "markdown",
   "metadata": {},
   "source": [
    "### UYGULAMA 3 : \n",
    "**Kullanıcıdan Cumartesi günü arabası ile gittiği yol  bilgisini (kilometre cinsinden) ve zaman bilgisini(saat cinsinden) aldıktan sonra arabasının ortalama hızını hesaplayan programı yazalım.** \n",
    "\n",
    "Fen Bilgisi ya da Fizik dersinden hatırlayacağımız üzere ;\n",
    "\n",
    "**Yol = Hız * Zaman** formülünden hız hesaplanacağı için ;\n",
    "\n",
    "**Hız = Yol / Zaman** formülü kullanılması gerekmektedir. \n",
    "\n"
   ]
  },
  {
   "cell_type": "code",
   "execution_count": 5,
   "metadata": {},
   "outputs": [
    {
     "name": "stdout",
     "output_type": "stream",
     "text": [
      "Kaç km gittiğinizi yazınız: 120\n",
      "Ne kadar saat gezdiniz: 2\n",
      "Cumartesi günü yapmış olduğunuz 2 saatlik gezi sonucunda 120 kilometre yol gittiniz ve ortalama hızınız 60.0'km/saattir\n"
     ]
    }
   ],
   "source": [
    "# hız = yol / zaman formülü kullanılacaktır \n",
    "yol = int(input(\"Kaç km gittiğinizi yazınız: \"))\n",
    "zaman = int(input(\"Ne kadar saat gezdiniz: \"))\n",
    "hız = yol / zaman \n",
    "\n",
    "print(\"Cumartesi günü yapmış olduğunuz {} saatlik gezi sonucunda {} kilometre yol gittiniz ve ortalama hızınız {}'km/saattir\".format(zaman,yol,hız))"
   ]
  },
  {
   "cell_type": "code",
   "execution_count": null,
   "metadata": {},
   "outputs": [],
   "source": []
  },
  {
   "cell_type": "code",
   "execution_count": null,
   "metadata": {},
   "outputs": [],
   "source": []
  },
  {
   "cell_type": "markdown",
   "metadata": {},
   "source": [
    "### UYGULAMA 4 : \n",
    "**Kullanıcıdan alınan 4 basamaklı sayının basamaklarını sırasıyla bir listeye atınız.Liste elemanları string türünde değil tam sayı olmalıdır** \n",
    "\n"
   ]
  },
  {
   "cell_type": "code",
   "execution_count": 6,
   "metadata": {},
   "outputs": [
    {
     "name": "stdout",
     "output_type": "stream",
     "text": [
      "4 basamaklı bir sayı giriniz: 2356\n"
     ]
    },
    {
     "data": {
      "text/plain": [
       "['2', '3', '5', '6']"
      ]
     },
     "execution_count": 6,
     "metadata": {},
     "output_type": "execute_result"
    }
   ],
   "source": [
    "sayi=input(\"4 basamaklı bir sayı giriniz: \")\n",
    "liste = list(sayi)\n",
    "liste"
   ]
  },
  {
   "cell_type": "code",
   "execution_count": 7,
   "metadata": {},
   "outputs": [
    {
     "data": {
      "text/plain": [
       "[2, 3, 5, 6]"
      ]
     },
     "execution_count": 7,
     "metadata": {},
     "output_type": "execute_result"
    }
   ],
   "source": [
    "liste[0] = int(sayi[0])\n",
    "liste[1] = int(sayi[1])\n",
    "liste[2] = int(sayi[2])\n",
    "liste[3] = int(sayi[3])\n",
    "liste"
   ]
  },
  {
   "cell_type": "markdown",
   "metadata": {},
   "source": [
    "### ÖDEV 7:\n",
    "\n",
    "\n",
    "**1) Kullanıcının santimetre cinsinden boyu ve kg cinsinden kilosunu alıp buna göre vücut kitle indeksini bulan programı yazınız. **\n",
    "\n",
    "**Vücut Kitle İndeksi = Kilosu / (Boyux Boyu)** formülünden hesaplanmaktadır. \n",
    "\n",
    "*Buradaki boyun metre cinsinden olması gerekmektedir. **Yani kullanıcıdan alınan santimetre cinsinden boyun önce metreye çevirip**  işlem yaparken  metre cinsinden olan boyu kullanınız. *\n",
    "\n",
    "**ÖRNEK PROGRAM ÇIKTISI **\n",
    "\n",
    "\n",
    "Boyunuzu giriniz (cm) : 165 \n",
    "\n",
    "Kilonuzu giriniz (kg) : 55\n",
    "\n",
    "Beden Kitle İndeksiniz : 20.20\n"
   ]
  },
  {
   "cell_type": "code",
   "execution_count": null,
   "metadata": {},
   "outputs": [],
   "source": []
  },
  {
   "cell_type": "code",
   "execution_count": null,
   "metadata": {},
   "outputs": [],
   "source": []
  },
  {
   "cell_type": "code",
   "execution_count": null,
   "metadata": {},
   "outputs": [],
   "source": []
  },
  {
   "cell_type": "code",
   "execution_count": null,
   "metadata": {},
   "outputs": [],
   "source": []
  }
 ],
 "metadata": {
  "kernelspec": {
   "display_name": "Python 3",
   "language": "python",
   "name": "python3"
  },
  "language_info": {
   "codemirror_mode": {
    "name": "ipython",
    "version": 3
   },
   "file_extension": ".py",
   "mimetype": "text/x-python",
   "name": "python",
   "nbconvert_exporter": "python",
   "pygments_lexer": "ipython3",
   "version": "3.7.3"
  }
 },
 "nbformat": 4,
 "nbformat_minor": 2
}
