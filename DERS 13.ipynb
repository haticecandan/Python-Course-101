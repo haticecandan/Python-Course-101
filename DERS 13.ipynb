{
 "cells": [
  {
   "cell_type": "markdown",
   "metadata": {},
   "source": [
    "# DERS 13"
   ]
  },
  {
   "cell_type": "markdown",
   "metadata": {},
   "source": [
    "#  if - elif - else koşullu durumları "
   ]
  },
  {
   "cell_type": "markdown",
   "metadata": {},
   "source": [
    "### if-elif-else Blokları"
   ]
  },
  {
   "cell_type": "markdown",
   "metadata": {},
   "source": [
    "Önceki konumuzda koşullu durumlarımızla sadece tek bir koşulu kontrol edebiliyorduk. Ancak programlamada bir durum bir çok koşula bağlı olabilir. Bu tür durumlar için if-elif-else kalıplarını kullanırız. Kullanımı şu şekildedir;\n",
    "\n",
    "               if koşul: \n",
    "                   Yapılacak İşlemler\n",
    "               elif başka bir koşul:\n",
    "                   Yapılacak İşlemler\n",
    "               elif başka bir koşul:\n",
    "                   Yapılacak İşlemler\n",
    "                   \n",
    "                    //\n",
    "                    //\n",
    "               else:\n",
    "                   Yapılacak İşlemler \n",
    "Programlarımızda, Kaç tane koşulumuz var ise o kadar elif bloğu oluşturabiliriz.  \n",
    "               \n",
    "                  "
   ]
  },
  {
   "cell_type": "code",
   "execution_count": 9,
   "metadata": {},
   "outputs": [
    {
     "name": "stdout",
     "output_type": "stream",
     "text": [
      "Bir sayı giriniz:20\n",
      "İkinci sayıyı giriniz:20\n",
      "Girdiğiniz sayılar birbirine eşittir.\n"
     ]
    }
   ],
   "source": [
    "sayi1= int(input(\"Bir sayı giriniz:\"))\n",
    "sayi2= int(input(\"İkinci sayıyı giriniz:\"))\n",
    "\n",
    "if (sayi1>sayi2):\n",
    "    print(\"Büyük olan sayı:\",sayi1)\n",
    "elif (sayi1<sayi2):\n",
    "    print(\"Büyük olan sayı:\",sayi2)\n",
    "else:\n",
    "    print(\"Girdiğiniz sayılar birbirine eşittir.\")"
   ]
  },
  {
   "cell_type": "markdown",
   "metadata": {},
   "source": [
    "if - elif - else kalıplarında, hangi koşul sağlanırsa program o bloğu çalıştırır."
   ]
  },
  {
   "cell_type": "code",
   "execution_count": 16,
   "metadata": {},
   "outputs": [
    {
     "name": "stdout",
     "output_type": "stream",
     "text": [
      "İşlem seçiniz:1\n",
      "1. işlem seçildi.\n"
     ]
    }
   ],
   "source": [
    "işlem =  int(input(\"İşlem seçiniz:\")) # 3 tane işlemimiz olsun.\n",
    "\n",
    "if işlem == 1:\n",
    "    print(\"1. işlem seçildi.\")\n",
    "elif işlem == 2:\n",
    "    print(\"2. işlem seçildi.\")\n",
    "elif işlem == 3:\n",
    "    print(\"3. işlem seçildi.\")\n",
    "else:\n",
    "    print(\"Geçersiz İşlem!\")\n"
   ]
  },
  {
   "cell_type": "code",
   "execution_count": 17,
   "metadata": {},
   "outputs": [
    {
     "name": "stdout",
     "output_type": "stream",
     "text": [
      "İşlem seçiniz:3\n",
      "3. işlem seçildi.\n"
     ]
    }
   ],
   "source": [
    "işlem =  int(input(\"İşlem seçiniz:\")) # 3 tane işlemimiz olsun.\n",
    "\n",
    "if işlem == 1:\n",
    "    print(\"1. işlem seçildi.\")\n",
    "elif işlem == 2:\n",
    "    print(\"2. işlem seçildi.\")\n",
    "elif işlem == 3:\n",
    "    print(\"3. işlem seçildi.\")\n",
    "else:\n",
    "    print(\"Geçersiz İşlem!\")"
   ]
  },
  {
   "cell_type": "code",
   "execution_count": 3,
   "metadata": {},
   "outputs": [
    {
     "name": "stdout",
     "output_type": "stream",
     "text": [
      "İşlem seçiniz:4\n",
      "Geçersiz İşlem!\n"
     ]
    }
   ],
   "source": [
    "işlem =  int(input(\"İşlem seçiniz:\")) # 3 tane işlemimiz olsun.\n",
    "\n",
    "if işlem == 1:\n",
    "    print(\"1. işlem seçildi.\")\n",
    "elif işlem == 2:\n",
    "    print(\"2. işlem seçildi.\")\n",
    "elif işlem == 3:\n",
    "    print(\"3. işlem seçildi.\")\n",
    "else:\n",
    "    print(\"Geçersiz İşlem!\")"
   ]
  },
  {
   "cell_type": "markdown",
   "metadata": {},
   "source": [
    "**elif tek başına kullanılamaz, mutlaka bir if gereklidir.Kullanıldığında aşağıdaki gibi hata verecektir.** "
   ]
  },
  {
   "cell_type": "code",
   "execution_count": 5,
   "metadata": {},
   "outputs": [
    {
     "ename": "SyntaxError",
     "evalue": "invalid syntax (<ipython-input-5-a8d75ad60a73>, line 3)",
     "output_type": "error",
     "traceback": [
      "\u001b[1;36m  File \u001b[1;32m\"<ipython-input-5-a8d75ad60a73>\"\u001b[1;36m, line \u001b[1;32m3\u001b[0m\n\u001b[1;33m    elif işlem == 2:\u001b[0m\n\u001b[1;37m       ^\u001b[0m\n\u001b[1;31mSyntaxError\u001b[0m\u001b[1;31m:\u001b[0m invalid syntax\n"
     ]
    }
   ],
   "source": [
    "işlem =  int(input(\"İşlem seçiniz:\")) # 3 tane işlemimiz olsun.\n",
    "\n",
    "elif işlem == 2:\n",
    "    print(\"2. işlem seçildi.\")\n",
    "elif işlem == 3:\n",
    "    print(\"3. işlem seçildi.\")\n",
    "else:\n",
    "    print(\"Geçersiz İşlem!\")"
   ]
  },
  {
   "cell_type": "code",
   "execution_count": 1,
   "metadata": {},
   "outputs": [
    {
     "name": "stdout",
     "output_type": "stream",
     "text": [
      "Notunuzu giriniz:60\n",
      "CC\n"
     ]
    }
   ],
   "source": [
    "#Bir dersten alınan nota göre harf puanını hesaplayan programı yazalım. elif yapısında herhangi bir koşul sağlandığında\n",
    "# o satır çalışıp bloklar sona erecek.\n",
    "\n",
    "note = float(input(\"Notunuzu giriniz:\"))\n",
    "\n",
    "if note >= 90:\n",
    "    print(\"AA\")\n",
    "elif note >= 80:\n",
    "    print(\"BA\")\n",
    "elif note >= 70:\n",
    "    print(\"CB\")\n",
    "elif note >= 60:\n",
    "    print(\"CC\")\n",
    "elif note >= 55:\n",
    "    print(\"DC\")\n",
    "elif note >= 50:\n",
    "    print(\"DD\")\n",
    "else:\n",
    "    print(\"Dersten Kaldınız\")\n"
   ]
  },
  {
   "cell_type": "markdown",
   "metadata": {},
   "source": [
    "**Peki aynı kodu if-if-if blokları ile yazarsak ne olurdu ?**"
   ]
  },
  {
   "cell_type": "markdown",
   "metadata": {
    "collapsed": true
   },
   "source": [
    "### if-if-if  Blokları"
   ]
  },
  {
   "cell_type": "code",
   "execution_count": 2,
   "metadata": {},
   "outputs": [
    {
     "name": "stdout",
     "output_type": "stream",
     "text": [
      "Notunuzu giriniz:60\n",
      "CC\n",
      "DC\n",
      "DD\n"
     ]
    }
   ],
   "source": [
    "# Bütün if blokları koşul için kontrol edilir ve koşullar doğruysa o blok çalıştırırılır. \n",
    "\n",
    "note = float(input(\"Notunuzu giriniz:\"))\n",
    "\n",
    "if note >= 90:\n",
    "    print(\"AA\")\n",
    "if note >= 80:\n",
    "    print(\"BA\")\n",
    "if note >= 70:\n",
    "    print(\"CB\")\n",
    "if note >= 60:\n",
    "    print(\"CC\")\n",
    "if note >= 55:\n",
    "    print(\"DC\")\n",
    "if note >= 50:\n",
    "    print(\"DD\")\n",
    "else:\n",
    "    print(\"Dersten Kaldınız\")"
   ]
  },
  {
   "cell_type": "markdown",
   "metadata": {},
   "source": [
    "*aynı notu girdik ama bize 3 farklı harf notu döndürdü. elif bloklarının önemi dikkatimizi çekmiştir umarım. "
   ]
  },
  {
   "cell_type": "markdown",
   "metadata": {
    "collapsed": true
   },
   "source": [
    "### UYGULAMA :\n",
    "Kullanıcının boy ve kilogram bilgilerini alıp vücut kitle indeksine göre hangi kategoriye girdiğini bulan programı yazınız. \n",
    "\n",
    "vücut kitle indeksi = kilo / (boy)**2\n",
    "\n",
    "- 19'dan küçükse  - zayıfsınız sağlık riski yok\n",
    "- 19.1 - 26 arasındaysa - normalsiniz sağlık riski yok\n",
    "- 26.1 - 32.2 arasındaysa - şişmanlık sınırındasınız, risklisiniz. \n",
    "- 32.2 ve üzerindeyse - obezite, büyük risk altındasınız.  "
   ]
  },
  {
   "cell_type": "code",
   "execution_count": 24,
   "metadata": {},
   "outputs": [
    {
     "name": "stdout",
     "output_type": "stream",
     "text": [
      "Boyunuzu metre cinsinden giriniz:1.65\n",
      "Kilogramınızı giriniz:58\n",
      "normalsiniz sağlık riski yok\n"
     ]
    }
   ],
   "source": [
    "boy = float(input(\"Boyunuzu metre cinsinden giriniz:\"))\n",
    "kg = float(input(\"Kilogramınızı giriniz:\"))\n",
    "\n",
    "vki=kg/(boy**2)\n",
    "\n",
    "if (vki<=19):\n",
    "    print(\"zayıfsınız sağlık riski yok\")\n",
    "elif (19.1<=vki<=26):\n",
    "    print(\"normalsiniz sağlık riski yok\")\n",
    "elif (26.1<=vki<=32.2):\n",
    "    print(\"şişmanlık sınırındasınız, risklisiniz\")\n",
    "else:\n",
    "    print(\" obezite, büyük risk altındasınız.\")"
   ]
  },
  {
   "cell_type": "markdown",
   "metadata": {},
   "source": [
    "### ÖDEV 13:\n",
    "**1)Kullanıcıdan iki sayı ve bir işlem numarası alarak seçilen işlem numarasına göre hesaplama yapan programı yazınız.** \n",
    "\n",
    "- Eğer işlem 1 seçilirse toplama işlemi,\n",
    "- Eğer işlem 2 seçilirse çıkarma işlemi,\n",
    "- Eğer işlem 3 seçilirse çarpma işlemi,\n",
    "- Eğer işlem 4 seçilirse bölme işlemi yapılacaktır. \n",
    "\n",
    "\n",
    "**Örnek Program Çıktısı**\n",
    "\n",
    "Birinci sayıyı giriniz : 30\n",
    "\n",
    "İkinci sayıyı giriniz  : 18\n",
    "\n",
    "İşlem numarası seçiniz :  2 \n",
    "\n",
    "\n",
    "Yapılan işlem sonrası cevap = 12'dir. \n",
    "\n"
   ]
  },
  {
   "cell_type": "markdown",
   "metadata": {},
   "source": [
    "**2)Kullanıcıdan alınan 3 basamaklı bir sayının onlar ve birler basamağı birbirine eşitse ekrana \"girdiğiniz sayı mutlu sayı\" değilse \"girdiğiniz sayı üzgün sayı\" \n",
    "yazdıran programı yazınız.** "
   ]
  },
  {
   "cell_type": "markdown",
   "metadata": {},
   "source": [
    "**3)Kullanıcıdan alınan 3 tane sayıdan en büyük sayıyı ekrana yazdıran programı yazınız.**"
   ]
  },
  {
   "cell_type": "code",
   "execution_count": null,
   "metadata": {},
   "outputs": [],
   "source": []
  }
 ],
 "metadata": {
  "kernelspec": {
   "display_name": "Python 3",
   "language": "python",
   "name": "python3"
  },
  "language_info": {
   "codemirror_mode": {
    "name": "ipython",
    "version": 3
   },
   "file_extension": ".py",
   "mimetype": "text/x-python",
   "name": "python",
   "nbconvert_exporter": "python",
   "pygments_lexer": "ipython3",
   "version": "3.7.3"
  }
 },
 "nbformat": 4,
 "nbformat_minor": 2
}
