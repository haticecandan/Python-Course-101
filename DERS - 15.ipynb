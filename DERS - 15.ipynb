{
 "cells": [
  {
   "cell_type": "markdown",
   "metadata": {},
   "source": [
    "# DERS 15\n"
   ]
  },
  {
   "cell_type": "markdown",
   "metadata": {},
   "source": [
    "# DÖNGÜLER "
   ]
  },
  {
   "cell_type": "markdown",
   "metadata": {},
   "source": [
    "### FOR DÖNGÜLERİ"
   ]
  },
  {
   "cell_type": "markdown",
   "metadata": {},
   "source": [
    "For döngüsünü anlayabilmek için **in operatörünü** öğrenmemiz gerekmektedir. \n",
    "\n",
    "#### in operatörü \n",
    "\n",
    "Bir elemanın başka bir listede,demette veya stringte (karakter dizileri) bulunup bulunmadığını kontrol eder. "
   ]
  },
  {
   "cell_type": "code",
   "execution_count": 1,
   "metadata": {},
   "outputs": [
    {
     "data": {
      "text/plain": [
       "True"
      ]
     },
     "execution_count": 1,
     "metadata": {},
     "output_type": "execute_result"
    }
   ],
   "source": [
    "\"a\" in \"merhaba\"  #merhaba stringinin içinde a karakteri varsa TRUE döndürür."
   ]
  },
  {
   "cell_type": "code",
   "execution_count": 2,
   "metadata": {},
   "outputs": [
    {
     "data": {
      "text/plain": [
       "True"
      ]
     },
     "execution_count": 2,
     "metadata": {},
     "output_type": "execute_result"
    }
   ],
   "source": [
    "\"ha\" in \"merhaba\""
   ]
  },
  {
   "cell_type": "code",
   "execution_count": 3,
   "metadata": {},
   "outputs": [
    {
     "data": {
      "text/plain": [
       "False"
      ]
     },
     "execution_count": 3,
     "metadata": {},
     "output_type": "execute_result"
    }
   ],
   "source": [
    "\"z\" in \"merhaba\""
   ]
  },
  {
   "cell_type": "code",
   "execution_count": 4,
   "metadata": {},
   "outputs": [
    {
     "data": {
      "text/plain": [
       "True"
      ]
     },
     "execution_count": 4,
     "metadata": {},
     "output_type": "execute_result"
    }
   ],
   "source": [
    "2 in [1,2,3,4,5,6,7]"
   ]
  },
  {
   "cell_type": "code",
   "execution_count": 5,
   "metadata": {},
   "outputs": [
    {
     "data": {
      "text/plain": [
       "False"
      ]
     },
     "execution_count": 5,
     "metadata": {},
     "output_type": "execute_result"
    }
   ],
   "source": [
    "10 in [1,2,3,4,5,6,7]"
   ]
  },
  {
   "cell_type": "code",
   "execution_count": 6,
   "metadata": {},
   "outputs": [
    {
     "data": {
      "text/plain": [
       "False"
      ]
     },
     "execution_count": 6,
     "metadata": {},
     "output_type": "execute_result"
    }
   ],
   "source": [
    "10 in (1,2,3,4,5,6,7)"
   ]
  },
  {
   "cell_type": "markdown",
   "metadata": {},
   "source": [
    "### for Döngüsü\n",
    "\n",
    "for Döngüsü ; stringlerin,listelerin ,demetlerin ve sözlüklerin  üzerinde dolaşmamızı sağlayan bir döngü türüdür.\n",
    "\n",
    "            for eleman in veri :\n",
    "                Yapılacak İşlemler"
   ]
  },
  {
   "cell_type": "code",
   "execution_count": 7,
   "metadata": {},
   "outputs": [
    {
     "name": "stdout",
     "output_type": "stream",
     "text": [
      "1\n",
      "2\n",
      "3\n",
      "4\n",
      "5\n",
      "6\n",
      "7\n",
      "8\n",
      "9\n",
      "10\n"
     ]
    }
   ],
   "source": [
    "#liste elemanlarını ekrana tek tek yazdıralım\n",
    "liste = [1,2,3,4,5,6,7,8,9,10]\n",
    "\n",
    "#liste elemanlarını ekrana yazdırmak için tek tek indeksleriyle beraber yazdırmamız gerekiyor. \n",
    "print(liste[0])\n",
    "print(liste[1])\n",
    "print(liste[2])\n",
    "print(liste[3])\n",
    "print(liste[4])\n",
    "print(liste[5])\n",
    "print(liste[6])\n",
    "print(liste[7])\n",
    "print(liste[8])\n",
    "print(liste[9])\n"
   ]
  },
  {
   "cell_type": "markdown",
   "metadata": {},
   "source": [
    "Ne kadar uzun ve zahmetli oldu bu satırları yazmak öyle değil mi? \n",
    "Hem hataya çok açık hem de zaman kaybı.\n",
    "\n",
    "**for döngüsü** ile bunu tek satırda yazmak mümkün "
   ]
  },
  {
   "cell_type": "code",
   "execution_count": 8,
   "metadata": {},
   "outputs": [
    {
     "name": "stdout",
     "output_type": "stream",
     "text": [
      "1\n",
      "2\n",
      "3\n",
      "4\n",
      "5\n",
      "6\n",
      "7\n",
      "8\n",
      "9\n",
      "10\n"
     ]
    }
   ],
   "source": [
    "#LİSTELERİN ÜZERİNDE FOR DÖNGÜSÜ\n",
    "\n",
    "#liste elemanlarını ekrana tek tek yazdıralım\n",
    "liste = [1,2,3,4,5,6,7,8,9,10]\n",
    "\n",
    "for eleman in liste:\n",
    "    print(eleman)"
   ]
  },
  {
   "cell_type": "code",
   "execution_count": 9,
   "metadata": {},
   "outputs": [
    {
     "name": "stdout",
     "output_type": "stream",
     "text": [
      "Toplam 55\n"
     ]
    }
   ],
   "source": [
    "# Liste elemanlarını kümülatif olarak toplayalım\n",
    "liste = [1,2,3,4,5,6,7,8,9,10]\n",
    "toplam = 0\n",
    "for eleman in liste:\n",
    "    toplam += eleman\n",
    "print(\"Toplam\",toplam)"
   ]
  },
  {
   "cell_type": "code",
   "execution_count": 10,
   "metadata": {},
   "outputs": [
    {
     "name": "stdout",
     "output_type": "stream",
     "text": [
      "2\n",
      "4\n",
      "6\n",
      "8\n",
      "10\n"
     ]
    }
   ],
   "source": [
    "# Listedeki çift elemanları ekrana yazdıralım \n",
    "liste = [1,2,3,4,5,6,7,8,9,10]\n",
    "\n",
    "for eleman in liste:\n",
    "    if eleman % 2 == 0:\n",
    "        print(eleman)"
   ]
  },
  {
   "cell_type": "code",
   "execution_count": 11,
   "metadata": {},
   "outputs": [
    {
     "name": "stdout",
     "output_type": "stream",
     "text": [
      "P\n",
      "y\n",
      "t\n",
      "h\n",
      "o\n",
      "n\n"
     ]
    }
   ],
   "source": [
    "# STRINGLERIN ÜZERİNDE FOR DÖNGÜSÜ\n",
    "#stringdeki her bir elemanı ekrana yazdıralım\n",
    "kelime =  \"Python\"\n",
    "for karakter in kelime:\n",
    "    print(karakter)"
   ]
  },
  {
   "cell_type": "code",
   "execution_count": 12,
   "metadata": {},
   "outputs": [
    {
     "name": "stdout",
     "output_type": "stream",
     "text": [
      "1\n",
      "2\n",
      "3\n",
      "4\n",
      "5\n"
     ]
    }
   ],
   "source": [
    "# DEMETLERİN ÜZERİNDE FOR DÖNGÜSÜ\n",
    "#demetteki her bir elemanı ekrana yazdıralım\n",
    "demet =  (1,2,3,4,5)\n",
    "\n",
    "for eleman in demet:\n",
    "    print(eleman)"
   ]
  },
  {
   "cell_type": "code",
   "execution_count": 13,
   "metadata": {},
   "outputs": [
    {
     "name": "stdout",
     "output_type": "stream",
     "text": [
      "(1, 2)\n",
      "(3, 4)\n",
      "(5, 6)\n",
      "(7, 8)\n"
     ]
    }
   ],
   "source": [
    "# Liste içindeki demetleri ekrana yazdıralım. \n",
    "\n",
    "liste = [(1,2),(3,4),(5,6),(7,8)]\n",
    "\n",
    "for eleman in liste:\n",
    "    print(eleman) "
   ]
  },
  {
   "cell_type": "code",
   "execution_count": 14,
   "metadata": {},
   "outputs": [
    {
     "name": "stdout",
     "output_type": "stream",
     "text": [
      "bir\n",
      "iki\n",
      "üç\n",
      "dört\n"
     ]
    }
   ],
   "source": [
    "# SÖZLÜKLERİN ÜZERİNDE FOR DÖNGÜSÜ\n",
    "# sözlük içindeki anahtarları ekrana yazdıralım. \n",
    "sözlük = {\"bir\":1,\"iki\":2,\"üç\":3,\"dört\":4}\n",
    "\n",
    "for eleman in sözlük:\n",
    "    print(eleman)"
   ]
  },
  {
   "cell_type": "code",
   "execution_count": 15,
   "metadata": {},
   "outputs": [
    {
     "name": "stdout",
     "output_type": "stream",
     "text": [
      "bir\n",
      "iki\n",
      "üç\n",
      "dört\n"
     ]
    }
   ],
   "source": [
    "#aynı işlemi keys() methodu ile de yazdırabiliriz. \n",
    "sözlük = {\"bir\":1,\"iki\":2,\"üç\":3,\"dört\":4}\n",
    "\n",
    "for eleman in sözlük.keys():\n",
    "    print(eleman)"
   ]
  },
  {
   "cell_type": "code",
   "execution_count": 16,
   "metadata": {},
   "outputs": [
    {
     "name": "stdout",
     "output_type": "stream",
     "text": [
      "1\n",
      "2\n",
      "3\n",
      "4\n"
     ]
    }
   ],
   "source": [
    "# sözlük içindeki values (değerleri) ekrana yazdıralım. \n",
    "sözlük = {\"bir\":1,\"iki\":2,\"üç\":3,\"dört\":4}\n",
    "\n",
    "for eleman in sözlük.values():\n",
    "    print(eleman)"
   ]
  },
  {
   "cell_type": "markdown",
   "metadata": {},
   "source": [
    "## UYGULAMA 1\n",
    "\n",
    "liste = [2,5,9,6,3,8,5]\n",
    "\n",
    "liste içindeki her bir elemanın karesini alıp ekrana yazdıran programı yazınız. "
   ]
  },
  {
   "cell_type": "code",
   "execution_count": 29,
   "metadata": {},
   "outputs": [
    {
     "name": "stdout",
     "output_type": "stream",
     "text": [
      "4\n",
      "25\n",
      "81\n",
      "36\n",
      "9\n",
      "64\n",
      "25\n"
     ]
    }
   ],
   "source": [
    "liste = [2,5,9,6,3,8,5]\n",
    "\n",
    "for a in liste:\n",
    "    print(a**2)"
   ]
  },
  {
   "cell_type": "code",
   "execution_count": 33,
   "metadata": {},
   "outputs": [
    {
     "data": {
      "text/plain": [
       "[4, 25, 81, 36, 9, 64, 25]"
      ]
     },
     "execution_count": 33,
     "metadata": {},
     "output_type": "execute_result"
    }
   ],
   "source": [
    "#karelerini başka bir listeye atayalım.\n",
    "liste = [2,5,9,6,3,8,5]\n",
    "i=0\n",
    "for a in liste:\n",
    "    liste[i]=(a**2)\n",
    "    i+=1\n",
    "liste"
   ]
  },
  {
   "cell_type": "markdown",
   "metadata": {},
   "source": [
    "## UYGULAMA 2"
   ]
  },
  {
   "cell_type": "markdown",
   "metadata": {},
   "source": [
    "**a) 1-10 Arası Sayıları Ekranda Listeleyen Python kodunu yazınız.** "
   ]
  },
  {
   "cell_type": "code",
   "execution_count": 36,
   "metadata": {},
   "outputs": [
    {
     "name": "stdout",
     "output_type": "stream",
     "text": [
      "1\n",
      "2\n",
      "3\n",
      "4\n",
      "5\n",
      "6\n",
      "7\n",
      "8\n",
      "9\n",
      "10\n"
     ]
    }
   ],
   "source": [
    "#range methodu içine yazılan başlangıç ve bitiş değerleri arasında sayı üretmeye yarar.\n",
    "for i in range(1,11):\n",
    "        print(i)"
   ]
  },
  {
   "cell_type": "markdown",
   "metadata": {},
   "source": [
    "**b) 1-100 arası Çift Sayıları Listeleyen Python kodunu yazınız.** "
   ]
  },
  {
   "cell_type": "code",
   "execution_count": 37,
   "metadata": {},
   "outputs": [
    {
     "name": "stdout",
     "output_type": "stream",
     "text": [
      "2\n",
      "4\n",
      "6\n",
      "8\n",
      "10\n",
      "12\n",
      "14\n",
      "16\n",
      "18\n",
      "20\n",
      "22\n",
      "24\n",
      "26\n",
      "28\n",
      "30\n",
      "32\n",
      "34\n",
      "36\n",
      "38\n",
      "40\n",
      "42\n",
      "44\n",
      "46\n",
      "48\n",
      "50\n",
      "52\n",
      "54\n",
      "56\n",
      "58\n",
      "60\n",
      "62\n",
      "64\n",
      "66\n",
      "68\n",
      "70\n",
      "72\n",
      "74\n",
      "76\n",
      "78\n",
      "80\n",
      "82\n",
      "84\n",
      "86\n",
      "88\n",
      "90\n",
      "92\n",
      "94\n",
      "96\n",
      "98\n",
      "100\n"
     ]
    }
   ],
   "source": [
    "for i in range(1,101):\n",
    "    if i%2==0:\n",
    "        print(i)"
   ]
  },
  {
   "cell_type": "markdown",
   "metadata": {},
   "source": [
    "**c) 1-100 arası Tek Sayıları Listeleyen Python kodunu yazınız.** "
   ]
  },
  {
   "cell_type": "code",
   "execution_count": 38,
   "metadata": {},
   "outputs": [
    {
     "name": "stdout",
     "output_type": "stream",
     "text": [
      "1\n",
      "3\n",
      "5\n",
      "7\n",
      "9\n",
      "11\n",
      "13\n",
      "15\n",
      "17\n",
      "19\n",
      "21\n",
      "23\n",
      "25\n",
      "27\n",
      "29\n",
      "31\n",
      "33\n",
      "35\n",
      "37\n",
      "39\n",
      "41\n",
      "43\n",
      "45\n",
      "47\n",
      "49\n",
      "51\n",
      "53\n",
      "55\n",
      "57\n",
      "59\n",
      "61\n",
      "63\n",
      "65\n",
      "67\n",
      "69\n",
      "71\n",
      "73\n",
      "75\n",
      "77\n",
      "79\n",
      "81\n",
      "83\n",
      "85\n",
      "87\n",
      "89\n",
      "91\n",
      "93\n",
      "95\n",
      "97\n",
      "99\n"
     ]
    }
   ],
   "source": [
    "for i in range(1,101):\n",
    "    if i%2!=0:\n",
    "        print(i)"
   ]
  },
  {
   "cell_type": "markdown",
   "metadata": {},
   "source": [
    "## UYGULAMA 3 \n",
    "\n",
    "1 den başlayıp kullanıcının Girdiği girdiği sayı da dahil olmak üzere Sayıları Listeleyen Python kodunuz yazınız. "
   ]
  },
  {
   "cell_type": "code",
   "execution_count": 41,
   "metadata": {},
   "outputs": [
    {
     "name": "stdout",
     "output_type": "stream",
     "text": [
      "Sayıyı Gir : 6\n",
      "1\n",
      "2\n",
      "3\n",
      "4\n",
      "5\n",
      "6\n"
     ]
    }
   ],
   "source": [
    "sayi=int(input('Sayıyı Gir : '))\n",
    "for i in range(1,sayi+1):\n",
    "    print(i)"
   ]
  },
  {
   "cell_type": "markdown",
   "metadata": {},
   "source": [
    "## UYGULAMA 4\n",
    "\n",
    "Kullanıcın girdiği iki sayı arasındaki sayıların toplamını gösteren Python programını yazınız.\n",
    "\n"
   ]
  },
  {
   "cell_type": "code",
   "execution_count": 42,
   "metadata": {},
   "outputs": [
    {
     "name": "stdout",
     "output_type": "stream",
     "text": [
      "Birinci sayıyı giriniz: 5\n",
      "İkinci sayıyı giriniz: 8\n",
      "5 ile 8 arasındaki sayıların toplamı : 13\n"
     ]
    }
   ],
   "source": [
    "toplam=0;\n",
    "sayi1=int(input(\"Birinci sayıyı giriniz: \"))\n",
    "sayi2=int(input(\"İkinci sayıyı giriniz: \"))\n",
    "for i in range(sayi1+1,sayi2):\n",
    "    toplam+=i    #toplam = toplam + i \n",
    "print(\"{} ile {} arasındaki sayıların toplamı : {}\".format(sayi1,sayi2,toplam))\n",
    " \n"
   ]
  },
  {
   "cell_type": "markdown",
   "metadata": {},
   "source": [
    "## UYGULAMA 5\n",
    "\n",
    "Girilen Sayının Asal Sayı mı Değil mi olduğunu bulan programı yazınız. "
   ]
  },
  {
   "cell_type": "code",
   "execution_count": 43,
   "metadata": {},
   "outputs": [
    {
     "name": "stdout",
     "output_type": "stream",
     "text": [
      "Sayı Giriniz: 91\n",
      "Sayı Asal Değildir\n"
     ]
    }
   ],
   "source": [
    "sayac=0\n",
    "sayi=int(input('Sayı Giriniz: '))\n",
    "for i in range(2,sayi):\n",
    "    if(sayi%i==0):\n",
    "        sayac+=1\n",
    "if(sayac!=0):\n",
    "    print(\"Sayı Asal Değildir\")\n",
    "else:\n",
    "    print(\"Sayı Asaldır\")"
   ]
  },
  {
   "cell_type": "markdown",
   "metadata": {},
   "source": [
    "## ÖDEV 15\n",
    "\n",
    "**1) listesindeki her bir meyveyi ekrana büyük hafle yazdıran program kodunuz yazınız.**\n",
    "\n",
    "meyve = [\"kiraz\",\"kayısı\",\"şeftali\",\"muz\",\"portakal\"]\n",
    "\n",
    "\n",
    "**2) liste=[10,100,50,60,15,5]**\n",
    "\n",
    "listesindeki her bir elemanı 5'e bölüp yeni bir listeye yazan programı yazınız. \n",
    "\n",
    "**3) demet =(2,5,9,56,3,[20,3,5],80)**\n",
    "\n",
    "Yukarıdaki demette yer alan elemanların sayısını for döngüsü ile bulan programı yazınız. \n",
    "\n"
   ]
  },
  {
   "cell_type": "code",
   "execution_count": null,
   "metadata": {},
   "outputs": [],
   "source": []
  }
 ],
 "metadata": {
  "kernelspec": {
   "display_name": "Python 3",
   "language": "python",
   "name": "python3"
  },
  "language_info": {
   "codemirror_mode": {
    "name": "ipython",
    "version": 3
   },
   "file_extension": ".py",
   "mimetype": "text/x-python",
   "name": "python",
   "nbconvert_exporter": "python",
   "pygments_lexer": "ipython3",
   "version": "3.7.3"
  }
 },
 "nbformat": 4,
 "nbformat_minor": 2
}
