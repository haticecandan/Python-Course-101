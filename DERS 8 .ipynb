{
 "cells": [
  {
   "cell_type": "markdown",
   "metadata": {},
   "source": [
    "## DERS 8 :  UYGULAMA \n",
    "Bu derste de uygulamalarla devam edeceğiz. "
   ]
  },
  {
   "cell_type": "markdown",
   "metadata": {},
   "source": [
    "### UYGULAMA 1 : \n",
    "Kullanıcıdan bir dik üçgenin dik olan iki kenarını(a,b) alın ve hipotenüs uzunluğunu bulmaya çalışın.\n",
    "\n",
    "Hipotenüs Formülü: a^2 + b^2 = c^2"
   ]
  },
  {
   "cell_type": "code",
   "execution_count": 28,
   "metadata": {},
   "outputs": [
    {
     "name": "stdout",
     "output_type": "stream",
     "text": [
      "Üçgenin dik kenarından ilkini giriniz:6\n",
      "Üçgenin dik kenarından ikincisini giriniz : 8\n"
     ]
    },
    {
     "data": {
      "text/plain": [
       "10.0"
      ]
     },
     "execution_count": 28,
     "metadata": {},
     "output_type": "execute_result"
    }
   ],
   "source": [
    "a = int(input(\"Üçgenin dik kenarından ilkini giriniz:\"))\n",
    "b = int(input(\"Üçgenin dik kenarından ikincisini giriniz : \"))\n",
    "ckare = a**2 + b**2\n",
    "c = ckare**(1/2)  #kök almak demektir \n",
    "c"
   ]
  },
  {
   "cell_type": "code",
   "execution_count": null,
   "metadata": {},
   "outputs": [],
   "source": []
  },
  {
   "cell_type": "markdown",
   "metadata": {},
   "source": [
    "### UYGULAMA 2 : \n",
    "\n",
    "**y = 5x + 8  doğrusu için  kullanıcının girdiği x değerine karşılık gelen y değerini bulan programı yazalım.**\n",
    "\n"
   ]
  },
  {
   "cell_type": "code",
   "execution_count": 32,
   "metadata": {},
   "outputs": [
    {
     "name": "stdout",
     "output_type": "stream",
     "text": [
      "x değerini giriniz: -2.5\n",
      "Girdiğiniz -2.5 değerinin y ekseninde denk gelen değeri -4.5'dir.\n"
     ]
    }
   ],
   "source": [
    "x = float(input(\"x değerini giriniz: \"))\n",
    "#doğru denklemini yazmam gerekiyor\n",
    "y = 5*x + 8\n",
    "print(\"Girdiğiniz {} değerinin y ekseninde denk gelen değeri {}'dir.\".format(x,y))"
   ]
  },
  {
   "cell_type": "code",
   "execution_count": null,
   "metadata": {},
   "outputs": [],
   "source": []
  },
  {
   "cell_type": "markdown",
   "metadata": {},
   "source": [
    "### UYGULAMA 3 : \n",
    "Kullanıcıdan alınan ilk tüketim değeri ve son tüketim değeri bilgilerine göre harcanan elektrik fatura bedelini aşağıdaki gibi ekrana yazdıran Python programanı yazınız. (Elektriğin birim fiyatı 1.35 TL'dır.)\n",
    "\n",
    "**ÖRNEK PROGRAM ÇIKTISI**\n",
    "\n",
    "İlk tüketim değerini giriniz : 850\n",
    "\n",
    "Son tüketim değerini giriniz : 890\n",
    "\n",
    "Tüketim Miktarı              : 40\n",
    "\n",
    "Tüketim Tutarı               : 54 TL \n",
    "\n",
    "KDV (%18)                    : 9.72 TL \n",
    "\n",
    "\n",
    "\n",
    "**TOPLAM TUTAR                 : 63.72 TL** \n"
   ]
  },
  {
   "cell_type": "code",
   "execution_count": 34,
   "metadata": {},
   "outputs": [
    {
     "name": "stdout",
     "output_type": "stream",
     "text": [
      "İlk tüketim değerini giriniz: 850\n",
      "Son tüketim değerini giriniz: 890\n",
      "Tüketim miktarı:  40.0 \n",
      "Tüketim Tutarı:  54.0 TL\n",
      " KDV(%18): 9.72 TL\n",
      " TOPLAM TUTAR: 63.72 TL\n"
     ]
    }
   ],
   "source": [
    "ilk_tuketim = float(input(\"İlk tüketim değerini giriniz: \"))\n",
    "son_tuketim = float(input(\"Son tüketim değerini giriniz: \"))\n",
    "tuketim = son_tuketim - ilk_tuketim\n",
    "tuketim_tutarı = tuketim * 1.35   #Elektriğin birim fiyatı 1.35 TL'dır.\n",
    "kdv = tuketim_tutarı * 18 /100\n",
    "toplam_tutar = tuketim_tutarı + kdv \n",
    "print(\"Tüketim miktarı: \",tuketim, \"\\nTüketim Tutarı: \",tuketim_tutarı,\"TL\\n KDV(%18):\",kdv,\"TL\\n TOPLAM TUTAR:\",toplam_tutar, \"TL\")\n"
   ]
  },
  {
   "cell_type": "code",
   "execution_count": null,
   "metadata": {},
   "outputs": [],
   "source": []
  },
  {
   "cell_type": "markdown",
   "metadata": {},
   "source": [
    "#### mod, % , bölümünden kalan işlemi \n",
    "\n",
    "mod diye bilinen % işareti bölümünden kalan demektir. Eğer kalan sıfır ise o sayı bölünen sayıya tam bölünüyor demektir. \n",
    "\n",
    "Yani 10 sayısını 2 ye böldüğümüzde kalan 0, 10 sayısı 2ye tam bölünüyor demektir. "
   ]
  },
  {
   "cell_type": "code",
   "execution_count": 2,
   "metadata": {},
   "outputs": [
    {
     "data": {
      "text/plain": [
       "0"
      ]
     },
     "execution_count": 2,
     "metadata": {},
     "output_type": "execute_result"
    }
   ],
   "source": [
    "#Örnek \n",
    "kalan = 10 % 2 #tam bölündüğü için kalan sıfır oldu\n",
    "kalan"
   ]
  },
  {
   "cell_type": "code",
   "execution_count": 4,
   "metadata": {},
   "outputs": [
    {
     "data": {
      "text/plain": [
       "2"
      ]
     },
     "execution_count": 4,
     "metadata": {},
     "output_type": "execute_result"
    }
   ],
   "source": [
    "#Örnek\n",
    "kalan = 10 % 4\n",
    "kalan"
   ]
  },
  {
   "cell_type": "code",
   "execution_count": 6,
   "metadata": {},
   "outputs": [
    {
     "data": {
      "text/plain": [
       "4"
      ]
     },
     "execution_count": 6,
     "metadata": {},
     "output_type": "execute_result"
    }
   ],
   "source": [
    "#Örnek\n",
    "kalan = 100 % 8\n",
    "kalan"
   ]
  },
  {
   "cell_type": "markdown",
   "metadata": {},
   "source": [
    "mod işlemini genelde bir tam sayının ondalık basamaklarını bulmak ya da saniye cinsinden verilen zamanı saat ve dakikaya çevirirken kullanırız. "
   ]
  },
  {
   "cell_type": "markdown",
   "metadata": {},
   "source": [
    "### UYGULAMA 4 : \n",
    "\n",
    "Klavyeden girilen 3 basamaklı sayının basamaklarını mod (%) işlemi ile bulunuz. "
   ]
  },
  {
   "cell_type": "code",
   "execution_count": 15,
   "metadata": {},
   "outputs": [
    {
     "name": "stdout",
     "output_type": "stream",
     "text": [
      "3 basamaklı bir sayı giriniz: 589\n",
      "Girilen 589 sayısının birler basamağı 9, onlar basamağı 8  ve yüzler basamağı 5'dir'\n"
     ]
    }
   ],
   "source": [
    "sayi=int(input(\"3 basamaklı bir sayı giriniz: \"))\n",
    "birler = int(sayi%10)\n",
    "onlar  = int((sayi/10)%10)\n",
    "yuzler = int(sayi/100)\n",
    "\n",
    "print(\"Girilen {} sayısının birler basamağı {}, onlar basamağı {}  ve yüzler basamağı {}'dir'\".format(sayi,birler,onlar,yuzler))"
   ]
  },
  {
   "cell_type": "code",
   "execution_count": null,
   "metadata": {},
   "outputs": [],
   "source": []
  },
  {
   "cell_type": "markdown",
   "metadata": {},
   "source": [
    "### UYGULAMA 5 : \n",
    "Kullanıcıdan saniye cinsinden alınan süreyi saat , dakika ve saniye cinsine dönüştürüp ekrana yazan programı yazınız. \n",
    "\n",
    " **ÖRNEK ÇIKTI**\n",
    " \n",
    " Lütfen saniye cinsinden süreyi giriniz  : 7322\n",
    " \n",
    " Girilen bu süre 2 saat, 2 dakika, 2 saniye etmektedir. "
   ]
  },
  {
   "cell_type": "code",
   "execution_count": 2,
   "metadata": {},
   "outputs": [
    {
     "name": "stdout",
     "output_type": "stream",
     "text": [
      "Lütfen saniye cinsinden süreyi giriniz: 7322\n",
      "Girilen bu süre 2 saat, 2 dakika, 2 saniye etmektedir.\n"
     ]
    }
   ],
   "source": []
  },
  {
   "cell_type": "code",
   "execution_count": null,
   "metadata": {},
   "outputs": [],
   "source": []
  },
  {
   "cell_type": "markdown",
   "metadata": {},
   "source": [
    "### ÖDEV 8 : \n",
    "\n",
    "**1 ) Klavyeden girilen 4 basamaklı sayının basamaklarını mod (%) işlemi ile bulunuz.** "
   ]
  },
  {
   "cell_type": "markdown",
   "metadata": {},
   "source": [
    "**2) Bir su faturası hesaplama programı tasarlayınız.** \n",
    "\n",
    "Kullanıcıdan ilk su okuma birimini ve son su okuma birimini alarak son harcanan suyun metreküpünü bulunuz. \n",
    "Ardından metreküp başına kullanım fiyatı olan 2 TL ile çarpınız. \n",
    "Ve %22 oranında KDV tutarını da ekleyip ödecenecek toplam tutarı belirleyiniz. \n",
    "\n",
    "**Örnek Program Çıktısı**\n",
    "\n",
    "İlk su okuma biriminiz giriniz : 150\n",
    "\n",
    "Son su okuma birimini giriniz  : 200\n",
    "\n",
    "Tüketim biriminiz              : 50\n",
    "\n",
    "Tüketim Tutarı                 : 100 TL \n",
    "\n",
    "KDV (%22)                      : 22 TL \n",
    "\n",
    "\n",
    "TOPLAM TUTAR                   : 122 TL \n"
   ]
  },
  {
   "cell_type": "code",
   "execution_count": null,
   "metadata": {},
   "outputs": [],
   "source": []
  }
 ],
 "metadata": {
  "kernelspec": {
   "display_name": "Python 3",
   "language": "python",
   "name": "python3"
  },
  "language_info": {
   "codemirror_mode": {
    "name": "ipython",
    "version": 3
   },
   "file_extension": ".py",
   "mimetype": "text/x-python",
   "name": "python",
   "nbconvert_exporter": "python",
   "pygments_lexer": "ipython3",
   "version": "3.7.3"
  }
 },
 "nbformat": 4,
 "nbformat_minor": 2
}
